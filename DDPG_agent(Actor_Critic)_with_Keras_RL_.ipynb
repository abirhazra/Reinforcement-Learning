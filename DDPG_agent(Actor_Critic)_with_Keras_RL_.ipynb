{
  "nbformat": 4,
  "nbformat_minor": 0,
  "metadata": {
    "colab": {
      "name": "DDPG agent(Actor-Critic) with Keras-RL .ipynb",
      "provenance": [],
      "collapsed_sections": [],
      "authorship_tag": "ABX9TyOUWSLbyEx7DAS+np8bwyv1",
      "include_colab_link": true
    },
    "kernelspec": {
      "name": "python3",
      "display_name": "Python 3"
    },
    "language_info": {
      "name": "python"
    },
    "accelerator": "GPU"
  },
  "cells": [
    {
      "cell_type": "markdown",
      "metadata": {
        "id": "view-in-github",
        "colab_type": "text"
      },
      "source": [
        "<a href=\"https://colab.research.google.com/github/abirhazra/Reinforcement-Learning/blob/main/DDPG_agent(Actor_Critic)_with_Keras_RL_.ipynb\" target=\"_parent\"><img src=\"https://colab.research.google.com/assets/colab-badge.svg\" alt=\"Open In Colab\"/></a>"
      ]
    },
    {
      "cell_type": "code",
      "metadata": {
        "id": "o-mPxVWCOZbt",
        "colab": {
          "base_uri": "https://localhost:8080/",
          "height": 1000
        },
        "outputId": "fcc76476-cfe8-452a-9f68-1c2cf1374d57"
      },
      "source": [
        "!pip install tensorflow==1.14\n",
        "!pip install keras-rl2\n",
        "# !pip install tensorflow==2.3.0\n",
        "# !pip install gym\n",
        "# !pip install keras\n",
        "# !pip install keras-rl2"
      ],
      "execution_count": null,
      "outputs": [
        {
          "output_type": "stream",
          "text": [
            "Collecting tensorflow==1.14\n",
            "  Using cached https://files.pythonhosted.org/packages/f4/28/96efba1a516cdacc2e2d6d081f699c001d414cc8ca3250e6d59ae657eb2b/tensorflow-1.14.0-cp37-cp37m-manylinux1_x86_64.whl\n",
            "Requirement already satisfied: wrapt>=1.11.1 in /usr/local/lib/python3.7/dist-packages (from tensorflow==1.14) (1.12.1)\n",
            "Requirement already satisfied: absl-py>=0.7.0 in /usr/local/lib/python3.7/dist-packages (from tensorflow==1.14) (0.12.0)\n",
            "Requirement already satisfied: google-pasta>=0.1.6 in /usr/local/lib/python3.7/dist-packages (from tensorflow==1.14) (0.2.0)\n",
            "Collecting tensorflow-estimator<1.15.0rc0,>=1.14.0rc0\n",
            "  Using cached https://files.pythonhosted.org/packages/3c/d5/21860a5b11caf0678fbc8319341b0ae21a07156911132e0e71bffed0510d/tensorflow_estimator-1.14.0-py2.py3-none-any.whl\n",
            "Requirement already satisfied: numpy<2.0,>=1.14.5 in /usr/local/lib/python3.7/dist-packages (from tensorflow==1.14) (1.19.5)\n",
            "Requirement already satisfied: astor>=0.6.0 in /usr/local/lib/python3.7/dist-packages (from tensorflow==1.14) (0.8.1)\n",
            "Requirement already satisfied: termcolor>=1.1.0 in /usr/local/lib/python3.7/dist-packages (from tensorflow==1.14) (1.1.0)\n",
            "Requirement already satisfied: six>=1.10.0 in /usr/local/lib/python3.7/dist-packages (from tensorflow==1.14) (1.15.0)\n",
            "Requirement already satisfied: grpcio>=1.8.6 in /usr/local/lib/python3.7/dist-packages (from tensorflow==1.14) (1.32.0)\n",
            "Collecting tensorboard<1.15.0,>=1.14.0\n",
            "  Using cached https://files.pythonhosted.org/packages/91/2d/2ed263449a078cd9c8a9ba50ebd50123adf1f8cfbea1492f9084169b89d9/tensorboard-1.14.0-py3-none-any.whl\n",
            "Requirement already satisfied: protobuf>=3.6.1 in /usr/local/lib/python3.7/dist-packages (from tensorflow==1.14) (3.12.4)\n",
            "Requirement already satisfied: gast>=0.2.0 in /usr/local/lib/python3.7/dist-packages (from tensorflow==1.14) (0.3.3)\n",
            "Requirement already satisfied: keras-applications>=1.0.6 in /usr/local/lib/python3.7/dist-packages (from tensorflow==1.14) (1.0.8)\n",
            "Requirement already satisfied: keras-preprocessing>=1.0.5 in /usr/local/lib/python3.7/dist-packages (from tensorflow==1.14) (1.1.2)\n",
            "Requirement already satisfied: wheel>=0.26 in /usr/local/lib/python3.7/dist-packages (from tensorflow==1.14) (0.36.2)\n",
            "Requirement already satisfied: markdown>=2.6.8 in /usr/local/lib/python3.7/dist-packages (from tensorboard<1.15.0,>=1.14.0->tensorflow==1.14) (3.3.4)\n",
            "Requirement already satisfied: werkzeug>=0.11.15 in /usr/local/lib/python3.7/dist-packages (from tensorboard<1.15.0,>=1.14.0->tensorflow==1.14) (1.0.1)\n",
            "Requirement already satisfied: setuptools>=41.0.0 in /usr/local/lib/python3.7/dist-packages (from tensorboard<1.15.0,>=1.14.0->tensorflow==1.14) (54.2.0)\n",
            "Requirement already satisfied: h5py in /usr/local/lib/python3.7/dist-packages (from keras-applications>=1.0.6->tensorflow==1.14) (2.10.0)\n",
            "Requirement already satisfied: importlib-metadata; python_version < \"3.8\" in /usr/local/lib/python3.7/dist-packages (from markdown>=2.6.8->tensorboard<1.15.0,>=1.14.0->tensorflow==1.14) (3.10.1)\n",
            "Requirement already satisfied: typing-extensions>=3.6.4; python_version < \"3.8\" in /usr/local/lib/python3.7/dist-packages (from importlib-metadata; python_version < \"3.8\"->markdown>=2.6.8->tensorboard<1.15.0,>=1.14.0->tensorflow==1.14) (3.7.4.3)\n",
            "Requirement already satisfied: zipp>=0.5 in /usr/local/lib/python3.7/dist-packages (from importlib-metadata; python_version < \"3.8\"->markdown>=2.6.8->tensorboard<1.15.0,>=1.14.0->tensorflow==1.14) (3.4.1)\n",
            "\u001b[31mERROR: keras-rl2 1.0.4 has requirement tensorflow>=2.1.0, but you'll have tensorflow 1.14.0 which is incompatible.\u001b[0m\n",
            "Installing collected packages: tensorflow-estimator, tensorboard, tensorflow\n",
            "  Found existing installation: tensorflow-estimator 2.4.0\n",
            "    Uninstalling tensorflow-estimator-2.4.0:\n",
            "      Successfully uninstalled tensorflow-estimator-2.4.0\n",
            "  Found existing installation: tensorboard 2.4.1\n",
            "    Uninstalling tensorboard-2.4.1:\n",
            "      Successfully uninstalled tensorboard-2.4.1\n",
            "  Found existing installation: tensorflow 2.4.1\n",
            "    Uninstalling tensorflow-2.4.1:\n",
            "      Successfully uninstalled tensorflow-2.4.1\n",
            "Successfully installed tensorboard-1.14.0 tensorflow-1.14.0 tensorflow-estimator-1.14.0\n"
          ],
          "name": "stdout"
        },
        {
          "output_type": "display_data",
          "data": {
            "application/vnd.colab-display-data+json": {
              "pip_warning": {
                "packages": [
                  "tensorboard",
                  "tensorflow"
                ]
              }
            }
          },
          "metadata": {
            "tags": []
          }
        },
        {
          "output_type": "stream",
          "text": [
            "Requirement already satisfied: keras-rl2 in /usr/local/lib/python3.7/dist-packages (1.0.4)\n",
            "Collecting tensorflow>=2.1.0\n",
            "  Using cached https://files.pythonhosted.org/packages/70/dc/e8c5e7983866fa4ef3fd619faa35f660b95b01a2ab62b3884f038ccab542/tensorflow-2.4.1-cp37-cp37m-manylinux2010_x86_64.whl\n",
            "Requirement already satisfied: keras-preprocessing~=1.1.2 in /usr/local/lib/python3.7/dist-packages (from tensorflow>=2.1.0->keras-rl2) (1.1.2)\n",
            "Requirement already satisfied: opt-einsum~=3.3.0 in /usr/local/lib/python3.7/dist-packages (from tensorflow>=2.1.0->keras-rl2) (3.3.0)\n",
            "Requirement already satisfied: absl-py~=0.10 in /usr/local/lib/python3.7/dist-packages (from tensorflow>=2.1.0->keras-rl2) (0.12.0)\n",
            "Requirement already satisfied: protobuf>=3.9.2 in /usr/local/lib/python3.7/dist-packages (from tensorflow>=2.1.0->keras-rl2) (3.12.4)\n",
            "Requirement already satisfied: flatbuffers~=1.12.0 in /usr/local/lib/python3.7/dist-packages (from tensorflow>=2.1.0->keras-rl2) (1.12)\n",
            "Requirement already satisfied: numpy~=1.19.2 in /usr/local/lib/python3.7/dist-packages (from tensorflow>=2.1.0->keras-rl2) (1.19.5)\n",
            "Requirement already satisfied: wheel~=0.35 in /usr/local/lib/python3.7/dist-packages (from tensorflow>=2.1.0->keras-rl2) (0.36.2)\n",
            "Requirement already satisfied: wrapt~=1.12.1 in /usr/local/lib/python3.7/dist-packages (from tensorflow>=2.1.0->keras-rl2) (1.12.1)\n",
            "Collecting tensorboard~=2.4\n",
            "  Using cached https://files.pythonhosted.org/packages/64/21/eebd23060763fedeefb78bc2b286e00fa1d8abda6f70efa2ee08c28af0d4/tensorboard-2.4.1-py3-none-any.whl\n",
            "Collecting tensorflow-estimator<2.5.0,>=2.4.0\n",
            "  Using cached https://files.pythonhosted.org/packages/74/7e/622d9849abf3afb81e482ffc170758742e392ee129ce1540611199a59237/tensorflow_estimator-2.4.0-py2.py3-none-any.whl\n",
            "Requirement already satisfied: termcolor~=1.1.0 in /usr/local/lib/python3.7/dist-packages (from tensorflow>=2.1.0->keras-rl2) (1.1.0)\n",
            "Requirement already satisfied: google-pasta~=0.2 in /usr/local/lib/python3.7/dist-packages (from tensorflow>=2.1.0->keras-rl2) (0.2.0)\n",
            "Requirement already satisfied: six~=1.15.0 in /usr/local/lib/python3.7/dist-packages (from tensorflow>=2.1.0->keras-rl2) (1.15.0)\n",
            "Requirement already satisfied: typing-extensions~=3.7.4 in /usr/local/lib/python3.7/dist-packages (from tensorflow>=2.1.0->keras-rl2) (3.7.4.3)\n",
            "Requirement already satisfied: gast==0.3.3 in /usr/local/lib/python3.7/dist-packages (from tensorflow>=2.1.0->keras-rl2) (0.3.3)\n",
            "Requirement already satisfied: grpcio~=1.32.0 in /usr/local/lib/python3.7/dist-packages (from tensorflow>=2.1.0->keras-rl2) (1.32.0)\n",
            "Requirement already satisfied: astunparse~=1.6.3 in /usr/local/lib/python3.7/dist-packages (from tensorflow>=2.1.0->keras-rl2) (1.6.3)\n",
            "Requirement already satisfied: h5py~=2.10.0 in /usr/local/lib/python3.7/dist-packages (from tensorflow>=2.1.0->keras-rl2) (2.10.0)\n",
            "Requirement already satisfied: setuptools in /usr/local/lib/python3.7/dist-packages (from protobuf>=3.9.2->tensorflow>=2.1.0->keras-rl2) (54.2.0)\n",
            "Requirement already satisfied: google-auth<2,>=1.6.3 in /usr/local/lib/python3.7/dist-packages (from tensorboard~=2.4->tensorflow>=2.1.0->keras-rl2) (1.28.1)\n",
            "Requirement already satisfied: requests<3,>=2.21.0 in /usr/local/lib/python3.7/dist-packages (from tensorboard~=2.4->tensorflow>=2.1.0->keras-rl2) (2.23.0)\n",
            "Requirement already satisfied: markdown>=2.6.8 in /usr/local/lib/python3.7/dist-packages (from tensorboard~=2.4->tensorflow>=2.1.0->keras-rl2) (3.3.4)\n",
            "Requirement already satisfied: google-auth-oauthlib<0.5,>=0.4.1 in /usr/local/lib/python3.7/dist-packages (from tensorboard~=2.4->tensorflow>=2.1.0->keras-rl2) (0.4.4)\n",
            "Requirement already satisfied: werkzeug>=0.11.15 in /usr/local/lib/python3.7/dist-packages (from tensorboard~=2.4->tensorflow>=2.1.0->keras-rl2) (1.0.1)\n",
            "Requirement already satisfied: tensorboard-plugin-wit>=1.6.0 in /usr/local/lib/python3.7/dist-packages (from tensorboard~=2.4->tensorflow>=2.1.0->keras-rl2) (1.8.0)\n",
            "Requirement already satisfied: cachetools<5.0,>=2.0.0 in /usr/local/lib/python3.7/dist-packages (from google-auth<2,>=1.6.3->tensorboard~=2.4->tensorflow>=2.1.0->keras-rl2) (4.2.1)\n",
            "Requirement already satisfied: rsa<5,>=3.1.4; python_version >= \"3.6\" in /usr/local/lib/python3.7/dist-packages (from google-auth<2,>=1.6.3->tensorboard~=2.4->tensorflow>=2.1.0->keras-rl2) (4.7.2)\n",
            "Requirement already satisfied: pyasn1-modules>=0.2.1 in /usr/local/lib/python3.7/dist-packages (from google-auth<2,>=1.6.3->tensorboard~=2.4->tensorflow>=2.1.0->keras-rl2) (0.2.8)\n",
            "Requirement already satisfied: chardet<4,>=3.0.2 in /usr/local/lib/python3.7/dist-packages (from requests<3,>=2.21.0->tensorboard~=2.4->tensorflow>=2.1.0->keras-rl2) (3.0.4)\n",
            "Requirement already satisfied: certifi>=2017.4.17 in /usr/local/lib/python3.7/dist-packages (from requests<3,>=2.21.0->tensorboard~=2.4->tensorflow>=2.1.0->keras-rl2) (2020.12.5)\n",
            "Requirement already satisfied: urllib3!=1.25.0,!=1.25.1,<1.26,>=1.21.1 in /usr/local/lib/python3.7/dist-packages (from requests<3,>=2.21.0->tensorboard~=2.4->tensorflow>=2.1.0->keras-rl2) (1.24.3)\n",
            "Requirement already satisfied: idna<3,>=2.5 in /usr/local/lib/python3.7/dist-packages (from requests<3,>=2.21.0->tensorboard~=2.4->tensorflow>=2.1.0->keras-rl2) (2.10)\n",
            "Requirement already satisfied: importlib-metadata; python_version < \"3.8\" in /usr/local/lib/python3.7/dist-packages (from markdown>=2.6.8->tensorboard~=2.4->tensorflow>=2.1.0->keras-rl2) (3.10.1)\n",
            "Requirement already satisfied: requests-oauthlib>=0.7.0 in /usr/local/lib/python3.7/dist-packages (from google-auth-oauthlib<0.5,>=0.4.1->tensorboard~=2.4->tensorflow>=2.1.0->keras-rl2) (1.3.0)\n",
            "Requirement already satisfied: pyasn1>=0.1.3 in /usr/local/lib/python3.7/dist-packages (from rsa<5,>=3.1.4; python_version >= \"3.6\"->google-auth<2,>=1.6.3->tensorboard~=2.4->tensorflow>=2.1.0->keras-rl2) (0.4.8)\n",
            "Requirement already satisfied: zipp>=0.5 in /usr/local/lib/python3.7/dist-packages (from importlib-metadata; python_version < \"3.8\"->markdown>=2.6.8->tensorboard~=2.4->tensorflow>=2.1.0->keras-rl2) (3.4.1)\n",
            "Requirement already satisfied: oauthlib>=3.0.0 in /usr/local/lib/python3.7/dist-packages (from requests-oauthlib>=0.7.0->google-auth-oauthlib<0.5,>=0.4.1->tensorboard~=2.4->tensorflow>=2.1.0->keras-rl2) (3.1.0)\n",
            "Installing collected packages: tensorboard, tensorflow-estimator, tensorflow\n",
            "  Found existing installation: tensorboard 1.14.0\n",
            "    Uninstalling tensorboard-1.14.0:\n",
            "      Successfully uninstalled tensorboard-1.14.0\n",
            "  Found existing installation: tensorflow-estimator 1.14.0\n",
            "    Uninstalling tensorflow-estimator-1.14.0:\n",
            "      Successfully uninstalled tensorflow-estimator-1.14.0\n",
            "  Found existing installation: tensorflow 1.14.0\n",
            "    Uninstalling tensorflow-1.14.0:\n",
            "      Successfully uninstalled tensorflow-1.14.0\n",
            "Successfully installed tensorboard-2.4.1 tensorflow-2.4.1 tensorflow-estimator-2.4.0\n"
          ],
          "name": "stdout"
        },
        {
          "output_type": "display_data",
          "data": {
            "application/vnd.colab-display-data+json": {
              "pip_warning": {
                "packages": [
                  "tensorboard",
                  "tensorflow"
                ]
              }
            }
          },
          "metadata": {
            "tags": []
          }
        }
      ]
    },
    {
      "cell_type": "code",
      "metadata": {
        "id": "tsY3xRzDtBMC"
      },
      "source": [
        "import numpy as np\n",
        "import gym\n",
        "\n",
        "from keras.models import Sequential, Model\n",
        "from keras.layers import Dense, Activation, Flatten, Input, Concatenate\n",
        "from keras.optimizers import Adam, Adadelta, Adagrad, Adamax, SGD, RMSprop\n",
        "\n",
        "from rl.agents import  DDPGAgent\n",
        "from rl.memory import SequentialMemory\n",
        "from rl.random import  OrnsteinUhlenbeckProcess"
      ],
      "execution_count": null,
      "outputs": []
    },
    {
      "cell_type": "code",
      "metadata": {
        "id": "VUz38Yfet3eU"
      },
      "source": [
        "ENV_NAME = 'Pendulum-v0'"
      ],
      "execution_count": null,
      "outputs": []
    },
    {
      "cell_type": "code",
      "metadata": {
        "colab": {
          "base_uri": "https://localhost:8080/"
        },
        "id": "bjrbWLfhuCJP",
        "outputId": "f9aac91a-0ae8-462e-cf48-9b1c79447ee2"
      },
      "source": [
        "env = gym.make(ENV_NAME)\n",
        "np.random.seed(123)\n",
        "env.seed(123)"
      ],
      "execution_count": null,
      "outputs": [
        {
          "output_type": "execute_result",
          "data": {
            "text/plain": [
              "[123]"
            ]
          },
          "metadata": {
            "tags": []
          },
          "execution_count": 84
        }
      ]
    },
    {
      "cell_type": "code",
      "metadata": {
        "id": "xl-Tn56duPl_",
        "colab": {
          "base_uri": "https://localhost:8080/"
        },
        "outputId": "e4fd264a-bcaa-480e-9a21-b9cf875e5749"
      },
      "source": [
        "nb_actions = env.action_space.shape[0]\n",
        "nb_actions"
      ],
      "execution_count": null,
      "outputs": [
        {
          "output_type": "execute_result",
          "data": {
            "text/plain": [
              "1"
            ]
          },
          "metadata": {
            "tags": []
          },
          "execution_count": 85
        }
      ]
    },
    {
      "cell_type": "code",
      "metadata": {
        "colab": {
          "base_uri": "https://localhost:8080/"
        },
        "id": "_HUIAqWFNAbE",
        "outputId": "ca10e9a7-929f-4ae8-d38c-c3a8650d1ca3"
      },
      "source": [
        "actor = Sequential()\n",
        "actor.add(Flatten(input_shape = (1,) + env.observation_space.shape))\n",
        "actor.add(Dense(16))\n",
        "actor.add(Activation('relu'))\n",
        "actor.add(Dense(16))\n",
        "actor.add(Activation('relu'))\n",
        "actor.add(Dense(16))\n",
        "actor.add(Activation('relu'))\n",
        "actor.add(Dense(nb_actions))\n",
        "actor.add(Activation('linear'))\n",
        "print(actor.summary())"
      ],
      "execution_count": null,
      "outputs": [
        {
          "output_type": "stream",
          "text": [
            "Model: \"sequential_3\"\n",
            "_________________________________________________________________\n",
            "Layer (type)                 Output Shape              Param #   \n",
            "=================================================================\n",
            "flatten_6 (Flatten)          (None, 3)                 0         \n",
            "_________________________________________________________________\n",
            "dense_24 (Dense)             (None, 16)                64        \n",
            "_________________________________________________________________\n",
            "activation_24 (Activation)   (None, 16)                0         \n",
            "_________________________________________________________________\n",
            "dense_25 (Dense)             (None, 16)                272       \n",
            "_________________________________________________________________\n",
            "activation_25 (Activation)   (None, 16)                0         \n",
            "_________________________________________________________________\n",
            "dense_26 (Dense)             (None, 16)                272       \n",
            "_________________________________________________________________\n",
            "activation_26 (Activation)   (None, 16)                0         \n",
            "_________________________________________________________________\n",
            "dense_27 (Dense)             (None, 1)                 17        \n",
            "_________________________________________________________________\n",
            "activation_27 (Activation)   (None, 1)                 0         \n",
            "=================================================================\n",
            "Total params: 625\n",
            "Trainable params: 625\n",
            "Non-trainable params: 0\n",
            "_________________________________________________________________\n",
            "None\n"
          ],
          "name": "stdout"
        }
      ]
    },
    {
      "cell_type": "code",
      "metadata": {
        "colab": {
          "base_uri": "https://localhost:8080/"
        },
        "id": "sx2HueFvQIVt",
        "outputId": "f00a56bf-4ab5-4864-9e49-1edc70a3c476"
      },
      "source": [
        "action_input = Input(shape=(nb_actions,),name='action_input')\n",
        "observation_input = Input(shape=(1,) + env.observation_space.shape, name= 'observation_input')\n",
        "flattened_observation = Flatten()(observation_input)\n",
        "x = Concatenate() ([action_input, flattened_observation])\n",
        "x=Dense(32)(x)\n",
        "x=Activation('relu')(x)\n",
        "x=Dense(32)(x)\n",
        "x=Activation('relu')(x)\n",
        "x=Dense(32)(x)\n",
        "x=Activation('relu')(x)\n",
        "x=Dense(1)(x)\n",
        "x=Activation('linear')(x)\n",
        "critic = Model(inputs = [action_input, observation_input], outputs = x)\n",
        "print(critic.summary())"
      ],
      "execution_count": null,
      "outputs": [
        {
          "output_type": "stream",
          "text": [
            "Model: \"model_3\"\n",
            "__________________________________________________________________________________________________\n",
            "Layer (type)                    Output Shape         Param #     Connected to                     \n",
            "==================================================================================================\n",
            "observation_input (InputLayer)  [(None, 1, 3)]       0                                            \n",
            "__________________________________________________________________________________________________\n",
            "action_input (InputLayer)       [(None, 1)]          0                                            \n",
            "__________________________________________________________________________________________________\n",
            "flatten_7 (Flatten)             (None, 3)            0           observation_input[0][0]          \n",
            "__________________________________________________________________________________________________\n",
            "concatenate_3 (Concatenate)     (None, 4)            0           action_input[0][0]               \n",
            "                                                                 flatten_7[0][0]                  \n",
            "__________________________________________________________________________________________________\n",
            "dense_28 (Dense)                (None, 32)           160         concatenate_3[0][0]              \n",
            "__________________________________________________________________________________________________\n",
            "activation_28 (Activation)      (None, 32)           0           dense_28[0][0]                   \n",
            "__________________________________________________________________________________________________\n",
            "dense_29 (Dense)                (None, 32)           1056        activation_28[0][0]              \n",
            "__________________________________________________________________________________________________\n",
            "activation_29 (Activation)      (None, 32)           0           dense_29[0][0]                   \n",
            "__________________________________________________________________________________________________\n",
            "dense_30 (Dense)                (None, 32)           1056        activation_29[0][0]              \n",
            "__________________________________________________________________________________________________\n",
            "activation_30 (Activation)      (None, 32)           0           dense_30[0][0]                   \n",
            "__________________________________________________________________________________________________\n",
            "dense_31 (Dense)                (None, 1)            33          activation_30[0][0]              \n",
            "__________________________________________________________________________________________________\n",
            "activation_31 (Activation)      (None, 1)            0           dense_31[0][0]                   \n",
            "==================================================================================================\n",
            "Total params: 2,305\n",
            "Trainable params: 2,305\n",
            "Non-trainable params: 0\n",
            "__________________________________________________________________________________________________\n",
            "None\n"
          ],
          "name": "stdout"
        }
      ]
    },
    {
      "cell_type": "code",
      "metadata": {
        "id": "IYZS4moOn4cq"
      },
      "source": [
        "from rl.random import OrnsteinUhlenbeckProcess"
      ],
      "execution_count": null,
      "outputs": []
    },
    {
      "cell_type": "code",
      "metadata": {
        "colab": {
          "base_uri": "https://localhost:8080/"
        },
        "id": "NQjLF3rMSCGl",
        "outputId": "56863544-80e7-40ec-cf12-ad526495cd6f"
      },
      "source": [
        "memory = SequentialMemory(limit=100000, window_length = 1)\n",
        "\n",
        "random_process = OrnsteinUhlenbeckProcess(size = nb_actions, theta = .15, mu = 0, sigma = 0.3)\n",
        "\n",
        "agent = DDPGAgent(nb_actions = nb_actions, actor = actor, critic = critic, critic_action_input = action_input, memory = memory, nb_steps_warmup_critic = 100, nb_steps_warmup_actor = 100, random_process = random_process, gamma=.99, target_model_update = 1e-3 )\n",
        "\n",
        "agent.compile(RMSprop(learning_rate=1e-2), metrics=['mae'])\n",
        "\n",
        "history = agent.fit(env, nb_steps= 5000, visualize= False, verbose=1, nb_max_episode_steps=200)\n",
        "\n",
        "agent.save_weights('ddpg_{}_weightd.h5f'.format(ENV_NAME), overwrite=True)\n",
        "\n",
        "agent.test(env, nb_episodes=5, visualize=False, nb_max_episode_steps=200)"
      ],
      "execution_count": null,
      "outputs": [
        {
          "output_type": "stream",
          "text": [
            "RMSprop\n",
            "Training for 5000 steps ...\n",
            "Interval 1 (0 steps performed)\n"
          ],
          "name": "stdout"
        },
        {
          "output_type": "stream",
          "text": [
            "/usr/local/lib/python3.7/dist-packages/tensorflow/python/keras/engine/training.py:2325: UserWarning: `Model.state_updates` will be removed in a future version. This property should not be used in TensorFlow 2.0, as `updates` are applied automatically.\n",
            "  warnings.warn('`Model.state_updates` will be removed in a future version. '\n"
          ],
          "name": "stderr"
        },
        {
          "output_type": "stream",
          "text": [
            " 4999/10000 [=============>................] - ETA: 1:05 - reward: -7.3683done, took 66.795 seconds\n",
            "Testing for 5 episodes ...\n",
            "Episode 1: reward: -1393.270, steps: 200\n",
            "Episode 2: reward: -1399.028, steps: 200\n",
            "Episode 3: reward: -1395.421, steps: 200\n",
            "Episode 4: reward: -1503.515, steps: 200\n",
            "Episode 5: reward: -1280.336, steps: 200\n"
          ],
          "name": "stdout"
        },
        {
          "output_type": "execute_result",
          "data": {
            "text/plain": [
              "<tensorflow.python.keras.callbacks.History at 0x7f5c928b7b90>"
            ]
          },
          "metadata": {
            "tags": []
          },
          "execution_count": 89
        }
      ]
    },
    {
      "cell_type": "code",
      "metadata": {
        "colab": {
          "base_uri": "https://localhost:8080/"
        },
        "id": "f4-70mMzoksb",
        "outputId": "019a9fda-674e-4e04-ecdd-f803736057f3"
      },
      "source": [
        "print(history.history.keys())\n",
        "hist1=history"
      ],
      "execution_count": null,
      "outputs": [
        {
          "output_type": "stream",
          "text": [
            "dict_keys(['episode_reward', 'nb_episode_steps', 'nb_steps'])\n"
          ],
          "name": "stdout"
        }
      ]
    },
    {
      "cell_type": "code",
      "metadata": {
        "colab": {
          "base_uri": "https://localhost:8080/",
          "height": 312
        },
        "id": "yl4HP7n5oxp_",
        "outputId": "e3890cd0-c5a5-466b-8e94-cb11f14df36e"
      },
      "source": [
        "plt.plot(hist1.history['nb_steps'],hist1.history['episode_reward'])\n",
        "plt.title('reward')\n",
        "plt.ylabel('Reward')\n",
        "plt.xlabel('Epoch')\n",
        "plt.show()\n",
        "print(np.mean(hist1.history['episode_reward']))"
      ],
      "execution_count": null,
      "outputs": [
        {
          "output_type": "display_data",
          "data": {
            "image/png": "[encoded data removed]",
            "text/plain": [
              "<Figure size 432x288 with 1 Axes>"
            ]
          },
          "metadata": {
            "tags": [],
            "needs_background": "light"
          }
        },
        {
          "output_type": "stream",
          "text": [
            "-1473.6172534311177\n"
          ],
          "name": "stdout"
        }
      ]
    },
    {
      "cell_type": "code",
      "metadata": {
        "colab": {
          "base_uri": "https://localhost:8080/"
        },
        "id": "s9Ey5lGbozu_",
        "outputId": "1bb1d6fd-9e3b-4f43-9ffd-9fec57663311"
      },
      "source": [
        "scores = agent.test(env, nb_episodes=100, visualize=False)\n",
        "print(np.mean(scores.history['episode_reward']))"
      ],
      "execution_count": null,
      "outputs": [
        {
          "output_type": "stream",
          "text": [
            "Testing for 100 episodes ...\n",
            "Episode 1: reward: -1306.142, steps: 200\n",
            "Episode 2: reward: -1498.062, steps: 200\n",
            "Episode 3: reward: -1491.581, steps: 200\n",
            "Episode 4: reward: -1410.481, steps: 200\n",
            "Episode 5: reward: -1256.518, steps: 200\n",
            "Episode 6: reward: -1498.966, steps: 200\n",
            "Episode 7: reward: -1493.282, steps: 200\n",
            "Episode 8: reward: -1344.316, steps: 200\n",
            "Episode 9: reward: -1363.745, steps: 200\n",
            "Episode 10: reward: -1349.782, steps: 200\n",
            "Episode 11: reward: -1497.642, steps: 200\n",
            "Episode 12: reward: -1501.434, steps: 200\n",
            "Episode 13: reward: -1396.844, steps: 200\n",
            "Episode 14: reward: -1408.487, steps: 200\n",
            "Episode 15: reward: -1154.005, steps: 200\n",
            "Episode 16: reward: -1492.522, steps: 200\n",
            "Episode 17: reward: -1493.056, steps: 200\n",
            "Episode 18: reward: -1371.628, steps: 200\n",
            "Episode 19: reward: -1493.188, steps: 200\n",
            "Episode 20: reward: -1401.479, steps: 200\n",
            "Episode 21: reward: -1492.420, steps: 200\n",
            "Episode 22: reward: -1491.159, steps: 200\n",
            "Episode 23: reward: -1394.826, steps: 200\n",
            "Episode 24: reward: -1396.267, steps: 200\n",
            "Episode 25: reward: -1459.134, steps: 200\n",
            "Episode 26: reward: -1258.986, steps: 200\n",
            "Episode 27: reward: -1455.441, steps: 200\n",
            "Episode 28: reward: -1295.342, steps: 200\n",
            "Episode 29: reward: -1402.792, steps: 200\n",
            "Episode 30: reward: -1388.626, steps: 200\n",
            "Episode 31: reward: -1389.808, steps: 200\n",
            "Episode 32: reward: -1494.798, steps: 200\n",
            "Episode 33: reward: -1456.450, steps: 200\n",
            "Episode 34: reward: -1334.373, steps: 200\n",
            "Episode 35: reward: -1272.148, steps: 200\n",
            "Episode 36: reward: -1366.151, steps: 200\n",
            "Episode 37: reward: -1499.585, steps: 200\n",
            "Episode 38: reward: -1422.681, steps: 200\n",
            "Episode 39: reward: -1316.911, steps: 200\n",
            "Episode 40: reward: -1516.488, steps: 200\n",
            "Episode 41: reward: -1334.049, steps: 200\n",
            "Episode 42: reward: -1397.406, steps: 200\n",
            "Episode 43: reward: -1394.546, steps: 200\n",
            "Episode 44: reward: -1504.041, steps: 200\n",
            "Episode 45: reward: -1392.529, steps: 200\n",
            "Episode 46: reward: -1491.342, steps: 200\n",
            "Episode 47: reward: -1265.627, steps: 200\n",
            "Episode 48: reward: -1497.670, steps: 200\n",
            "Episode 49: reward: -1349.495, steps: 200\n",
            "Episode 50: reward: -1453.004, steps: 200\n",
            "Episode 51: reward: -1492.623, steps: 200\n",
            "Episode 52: reward: -1495.695, steps: 200\n",
            "Episode 53: reward: -1375.607, steps: 200\n",
            "Episode 54: reward: -1315.077, steps: 200\n",
            "Episode 55: reward: -1326.186, steps: 200\n",
            "Episode 56: reward: -1514.208, steps: 200\n",
            "Episode 57: reward: -1324.299, steps: 200\n",
            "Episode 58: reward: -1342.298, steps: 200\n",
            "Episode 59: reward: -1380.106, steps: 200\n",
            "Episode 60: reward: -1326.869, steps: 200\n",
            "Episode 61: reward: -1436.736, steps: 200\n",
            "Episode 62: reward: -1400.488, steps: 200\n",
            "Episode 63: reward: -1508.420, steps: 200\n",
            "Episode 64: reward: -1318.064, steps: 200\n",
            "Episode 65: reward: -1419.788, steps: 200\n",
            "Episode 66: reward: -1309.109, steps: 200\n",
            "Episode 67: reward: -1390.005, steps: 200\n",
            "Episode 68: reward: -1281.008, steps: 200\n",
            "Episode 69: reward: -1383.440, steps: 200\n",
            "Episode 70: reward: -1322.607, steps: 200\n",
            "Episode 71: reward: -1499.278, steps: 200\n",
            "Episode 72: reward: -1320.869, steps: 200\n",
            "Episode 73: reward: -1326.593, steps: 200\n",
            "Episode 74: reward: -1499.658, steps: 200\n",
            "Episode 75: reward: -1498.283, steps: 200\n",
            "Episode 76: reward: -1501.808, steps: 200\n",
            "Episode 77: reward: -1400.204, steps: 200\n",
            "Episode 78: reward: -1306.913, steps: 200\n",
            "Episode 79: reward: -1393.674, steps: 200\n",
            "Episode 80: reward: -1383.684, steps: 200\n",
            "Episode 81: reward: -1413.536, steps: 200\n",
            "Episode 82: reward: -1403.480, steps: 200\n",
            "Episode 83: reward: -1368.280, steps: 200\n",
            "Episode 84: reward: -1323.632, steps: 200\n",
            "Episode 85: reward: -1403.126, steps: 200\n",
            "Episode 86: reward: -1228.813, steps: 200\n",
            "Episode 87: reward: -1348.383, steps: 200\n",
            "Episode 88: reward: -1519.376, steps: 200\n",
            "Episode 89: reward: -1494.615, steps: 200\n",
            "Episode 90: reward: -1359.875, steps: 200\n",
            "Episode 91: reward: -1354.670, steps: 200\n",
            "Episode 92: reward: -1272.370, steps: 200\n",
            "Episode 93: reward: -1500.412, steps: 200\n",
            "Episode 94: reward: -1397.988, steps: 200\n",
            "Episode 95: reward: -1216.457, steps: 200\n",
            "Episode 96: reward: -1503.229, steps: 200\n",
            "Episode 97: reward: -1404.501, steps: 200\n",
            "Episode 98: reward: -1500.048, steps: 200\n",
            "Episode 99: reward: -1419.835, steps: 200\n",
            "Episode 100: reward: -1495.803, steps: 200\n",
            "-1401.2927827224055\n"
          ],
          "name": "stdout"
        }
      ]
    },
    {
      "cell_type": "code",
      "metadata": {
        "colab": {
          "base_uri": "https://localhost:8080/"
        },
        "id": "zrf0VunYo1eo",
        "outputId": "126c479b-56b8-48fb-9655-077a8fd18a36"
      },
      "source": [
        "p=agent.test(env, nb_episodes=1, visualize=False)"
      ],
      "execution_count": null,
      "outputs": [
        {
          "output_type": "stream",
          "text": [
            "Testing for 1 episodes ...\n",
            "Episode 1: reward: -1320.473, steps: 200\n"
          ],
          "name": "stdout"
        }
      ]
    },
    {
      "cell_type": "code",
      "metadata": {
        "colab": {
          "base_uri": "https://localhost:8080/"
        },
        "id": "8IsCXOSKo3rJ",
        "outputId": "642d4f8e-1903-4f49-f3df-d344862965c5"
      },
      "source": [
        "p.history.keys()"
      ],
      "execution_count": null,
      "outputs": [
        {
          "output_type": "execute_result",
          "data": {
            "text/plain": [
              "dict_keys(['episode_reward', 'nb_steps'])"
            ]
          },
          "metadata": {
            "tags": []
          },
          "execution_count": 94
        }
      ]
    },
    {
      "cell_type": "code",
      "metadata": {
        "colab": {
          "base_uri": "https://localhost:8080/"
        },
        "id": "5E_KPhOKo5xA",
        "outputId": "6beb23f1-3c6a-4c43-9a58-d6f6d6ea2c5b"
      },
      "source": [
        "# del dqn\n",
        "# dqn = build_agent(model, actions)\n",
        "# dqn.compile(Adam(learning_rate=1e-2), metrics=['mae'])\n",
        "# history=dqn.fit(env, nb_steps=10000, visualize=False, verbose=1)\n",
        "\n",
        "agent.compile(Adam(lr=0.001, clipnorm=1.), metrics=['mae'])\n",
        "\n",
        "history = agent.fit(env, nb_steps= 5000, visualize= False, verbose=1, nb_max_episode_steps=200)"
      ],
      "execution_count": null,
      "outputs": [
        {
          "output_type": "stream",
          "text": [
            "Adam\n",
            "Training for 5000 steps ...\n",
            "Interval 1 (0 steps performed)\n"
          ],
          "name": "stdout"
        },
        {
          "output_type": "stream",
          "text": [
            "/usr/local/lib/python3.7/dist-packages/tensorflow/python/keras/engine/training.py:2325: UserWarning: `Model.state_updates` will be removed in a future version. This property should not be used in TensorFlow 2.0, as `updates` are applied automatically.\n",
            "  warnings.warn('`Model.state_updates` will be removed in a future version. '\n"
          ],
          "name": "stderr"
        },
        {
          "output_type": "stream",
          "text": [
            " 5000/10000 [==============>...............] - ETA: 1:09 - reward: -5.6720done, took 70.931 seconds\n"
          ],
          "name": "stdout"
        }
      ]
    },
    {
      "cell_type": "code",
      "metadata": {
        "id": "XzZ-Qy8ho7wQ",
        "colab": {
          "base_uri": "https://localhost:8080/"
        },
        "outputId": "d6f5a6f9-0b4f-4951-ed79-5f9829cb9ac5"
      },
      "source": [
        "print(history.history.keys())\n",
        "hist2=history"
      ],
      "execution_count": null,
      "outputs": [
        {
          "output_type": "stream",
          "text": [
            "dict_keys(['episode_reward', 'nb_episode_steps', 'nb_steps'])\n"
          ],
          "name": "stdout"
        }
      ]
    },
    {
      "cell_type": "code",
      "metadata": {
        "id": "mkdf8zOoo9lI",
        "colab": {
          "base_uri": "https://localhost:8080/",
          "height": 312
        },
        "outputId": "cb90daa0-efc0-4702-fdde-a61609c15077"
      },
      "source": [
        "# plt.plot(hist2.history['nb_steps'][0:100],hist2.history['episode_reward'][0:100])\n",
        "plt.plot(hist2.history['nb_steps'],hist2.history['episode_reward'])\n",
        "# plt.plot(hist.history[])\n",
        "plt.title('reward')\n",
        "plt.ylabel('Reward')\n",
        "plt.xlabel('Epoch')\n",
        "plt.show()\n",
        "print(np.mean(hist2.history['episode_reward']))"
      ],
      "execution_count": null,
      "outputs": [
        {
          "output_type": "display_data",
          "data": {
            "image/png": "[encoded data removed]",
            "text/plain": [
              "<Figure size 432x288 with 1 Axes>"
            ]
          },
          "metadata": {
            "tags": [],
            "needs_background": "light"
          }
        },
        {
          "output_type": "stream",
          "text": [
            "-1134.40246879173\n"
          ],
          "name": "stdout"
        }
      ]
    },
    {
      "cell_type": "code",
      "metadata": {
        "id": "HXng4f0po_F_",
        "colab": {
          "base_uri": "https://localhost:8080/"
        },
        "outputId": "0c0b7d9b-f0ef-4ba1-d126-e053f0b8d602"
      },
      "source": [
        "# del dqn\n",
        "# dqn = build_agent(model, actions)\n",
        "# dqn\n",
        "# dqn.compile(SGD(learning_rate=1e-2), metrics=['mae'])\n",
        "# history=dqn.fit(env, nb_steps=10000, visualize=False, verbose=1)\n",
        "\n",
        "agent.compile(SGD(lr=0.001, clipnorm=1.), metrics=['mae'])\n",
        "\n",
        "history = agent.fit(env, nb_steps= 5000, visualize= False, verbose=1, nb_max_episode_steps=200)"
      ],
      "execution_count": null,
      "outputs": [
        {
          "output_type": "stream",
          "text": [
            "SGD\n",
            "Training for 5000 steps ...\n",
            "Interval 1 (0 steps performed)\n"
          ],
          "name": "stdout"
        },
        {
          "output_type": "stream",
          "text": [
            "/usr/local/lib/python3.7/dist-packages/tensorflow/python/keras/engine/training.py:2325: UserWarning: `Model.state_updates` will be removed in a future version. This property should not be used in TensorFlow 2.0, as `updates` are applied automatically.\n",
            "  warnings.warn('`Model.state_updates` will be removed in a future version. '\n"
          ],
          "name": "stderr"
        },
        {
          "output_type": "stream",
          "text": [
            " 5000/10000 [==============>...............] - ETA: 1:08 - reward: -4.5132done, took 69.912 seconds\n"
          ],
          "name": "stdout"
        }
      ]
    },
    {
      "cell_type": "code",
      "metadata": {
        "id": "_9uCNcmxpAoZ",
        "colab": {
          "base_uri": "https://localhost:8080/"
        },
        "outputId": "41771275-3789-4f2f-8cfd-4401b6c4f0b7"
      },
      "source": [
        "print(history.history.keys())\n",
        "hist3=history"
      ],
      "execution_count": null,
      "outputs": [
        {
          "output_type": "stream",
          "text": [
            "dict_keys(['episode_reward', 'nb_episode_steps', 'nb_steps'])\n"
          ],
          "name": "stdout"
        }
      ]
    },
    {
      "cell_type": "code",
      "metadata": {
        "id": "l3kI0sD2pCLC",
        "colab": {
          "base_uri": "https://localhost:8080/",
          "height": 312
        },
        "outputId": "e6031970-b1ec-428e-e25a-4fca8858ca65"
      },
      "source": [
        "plt.plot(hist3.history['nb_steps'],hist3.history['episode_reward'])\n",
        "# plt.plot(hist.history[])\n",
        "plt.title('reward')\n",
        "plt.ylabel('Reward')\n",
        "plt.xlabel('Epoch')\n",
        "plt.show()\n",
        "print(np.mean(hist3.history['episode_reward']))"
      ],
      "execution_count": null,
      "outputs": [
        {
          "output_type": "display_data",
          "data": {
            "image/png": "[encoded data removed]",
            "text/plain": [
              "<Figure size 432x288 with 1 Axes>"
            ]
          },
          "metadata": {
            "tags": [],
            "needs_background": "light"
          }
        },
        {
          "output_type": "stream",
          "text": [
            "-902.646218397084\n"
          ],
          "name": "stdout"
        }
      ]
    },
    {
      "cell_type": "code",
      "metadata": {
        "id": "qwP4nbnVpDqv",
        "colab": {
          "base_uri": "https://localhost:8080/"
        },
        "outputId": "aeedd577-c80a-43ef-ec17-6917290e9629"
      },
      "source": [
        "# del dqn\n",
        "# dqn = build_agent(model, actions)\n",
        "# dqn.compile(Adamax(learning_rate=1e-2), metrics=['mae'])\n",
        "# history=dqn.fit(env, nb_steps=10000, visualize=False, verbose=1)\n",
        "\n",
        "agent.compile(Adamax(learning_rate=1e-2), metrics=['mae'])\n",
        "\n",
        "history = agent.fit(env, nb_steps= 5000, visualize= False, verbose=1, nb_max_episode_steps=200)"
      ],
      "execution_count": null,
      "outputs": [
        {
          "output_type": "stream",
          "text": [
            "Adamax\n",
            "Training for 5000 steps ...\n",
            "Interval 1 (0 steps performed)\n"
          ],
          "name": "stdout"
        },
        {
          "output_type": "stream",
          "text": [
            "/usr/local/lib/python3.7/dist-packages/tensorflow/python/keras/engine/training.py:2325: UserWarning: `Model.state_updates` will be removed in a future version. This property should not be used in TensorFlow 2.0, as `updates` are applied automatically.\n",
            "  warnings.warn('`Model.state_updates` will be removed in a future version. '\n"
          ],
          "name": "stderr"
        },
        {
          "output_type": "stream",
          "text": [
            " 4998/10000 [=============>................] - ETA: 1:09 - reward: -3.1288done, took 70.594 seconds\n"
          ],
          "name": "stdout"
        }
      ]
    },
    {
      "cell_type": "code",
      "metadata": {
        "id": "uzsKGkIVpFH5",
        "colab": {
          "base_uri": "https://localhost:8080/"
        },
        "outputId": "ab743e8d-d8be-4251-8b70-a2e1aa8ca193"
      },
      "source": [
        "print(history.history.keys())\n",
        "hist4=history"
      ],
      "execution_count": null,
      "outputs": [
        {
          "output_type": "stream",
          "text": [
            "dict_keys(['episode_reward', 'nb_episode_steps', 'nb_steps'])\n"
          ],
          "name": "stdout"
        }
      ]
    },
    {
      "cell_type": "code",
      "metadata": {
        "id": "EhPrto3epGwQ",
        "colab": {
          "base_uri": "https://localhost:8080/",
          "height": 312
        },
        "outputId": "9cf92462-0861-4f8d-a371-cf72d7d116cc"
      },
      "source": [
        "plt.plot(hist4.history['nb_steps'],hist4.history['episode_reward'])\n",
        "# plt.plot(hist.history[])\n",
        "plt.title('reward')\n",
        "plt.ylabel('Reward')\n",
        "plt.xlabel('Epoch')\n",
        "plt.show()\n",
        "print(np.mean(hist4.history['episode_reward']))"
      ],
      "execution_count": null,
      "outputs": [
        {
          "output_type": "display_data",
          "data": {
            "image/png": "[encoded data removed]",
            "text/plain": [
              "<Figure size 432x288 with 1 Axes>"
            ]
          },
          "metadata": {
            "tags": [],
            "needs_background": "light"
          }
        },
        {
          "output_type": "stream",
          "text": [
            "-625.5226704713133\n"
          ],
          "name": "stdout"
        }
      ]
    },
    {
      "cell_type": "code",
      "metadata": {
        "id": "aRfUGrjSpIN4",
        "colab": {
          "base_uri": "https://localhost:8080/",
          "height": 279
        },
        "outputId": "c4b41aef-c32b-4acf-8d51-19089701a279"
      },
      "source": [
        "plt.figure()\n",
        "plt.plot(hist1.history['nb_steps'],hist1.history['episode_reward'], label='RMSprop')\n",
        "plt.plot(hist2.history['nb_steps'],hist2.history['episode_reward'],label='Adam')\n",
        "plt.plot(hist3.history['nb_steps'],hist3.history['episode_reward'],label='SGD')\n",
        "plt.plot(hist4.history['nb_steps'],hist4.history['episode_reward'],label='Adamax')\n",
        "#plt.plot(train_loss5, color='navy', alpha=0.8, label='Adadelta')\n",
        "#plt.title(\"Network Optimizers\")\n",
        "plt.xlabel(\"Epochs\")\n",
        "plt.ylabel(\"Reward\")\n",
        "plt.legend()\n",
        "plt.show()"
      ],
      "execution_count": null,
      "outputs": [
        {
          "output_type": "display_data",
          "data": {
            "image/png": "[encoded data removed]",
            "text/plain": [
              "<Figure size 432x288 with 1 Axes>"
            ]
          },
          "metadata": {
            "tags": [],
            "needs_background": "light"
          }
        }
      ]
    },
    {
      "cell_type": "code",
      "metadata": {
        "id": "5tvenhWmpJzw"
      },
      "source": [
        ""
      ],
      "execution_count": null,
      "outputs": []
    }
  ]
}