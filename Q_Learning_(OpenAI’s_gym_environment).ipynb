{
  "nbformat": 4,
  "nbformat_minor": 0,
  "metadata": {
    "colab": {
      "name": "Q-Learning (OpenAI’s gym environment).ipynb",
      "provenance": [],
      "collapsed_sections": [],
      "authorship_tag": "ABX9TyPtx5KZpX6ZHqbNj26+ocsF",
      "include_colab_link": true
    },
    "kernelspec": {
      "name": "python3",
      "display_name": "Python 3"
    }
  },
  "cells": [
    {
      "cell_type": "markdown",
      "metadata": {
        "id": "view-in-github",
        "colab_type": "text"
      },
      "source": [
        "<a href=\"https://colab.research.google.com/github/abirhazra/Reinforcement-Learning/blob/main/Q_Learning_(OpenAI%E2%80%99s_gym_environment).ipynb\" target=\"_parent\"><img src=\"https://colab.research.google.com/assets/colab-badge.svg\" alt=\"Open In Colab\"/></a>"
      ]
    },
    {
      "cell_type": "code",
      "metadata": {
        "id": "PUG1y1NQxUxy",
        "colab": {
          "base_uri": "https://localhost:8080/"
        },
        "outputId": "f79f2bdd-407f-46d8-bff2-bded96dc68cc"
      },
      "source": [
        "!pip install gym"
      ],
      "execution_count": 83,
      "outputs": [
        {
          "output_type": "stream",
          "text": [
            "Requirement already satisfied: gym in /usr/local/lib/python3.6/dist-packages (0.17.3)\n",
            "Requirement already satisfied: numpy>=1.10.4 in /usr/local/lib/python3.6/dist-packages (from gym) (1.19.5)\n",
            "Requirement already satisfied: pyglet<=1.5.0,>=1.4.0 in /usr/local/lib/python3.6/dist-packages (from gym) (1.5.0)\n",
            "Requirement already satisfied: scipy in /usr/local/lib/python3.6/dist-packages (from gym) (1.4.1)\n",
            "Requirement already satisfied: cloudpickle<1.7.0,>=1.2.0 in /usr/local/lib/python3.6/dist-packages (from gym) (1.3.0)\n",
            "Requirement already satisfied: future in /usr/local/lib/python3.6/dist-packages (from pyglet<=1.5.0,>=1.4.0->gym) (0.16.0)\n"
          ],
          "name": "stdout"
        }
      ]
    },
    {
      "cell_type": "markdown",
      "metadata": {
        "id": "9p5zgFLKGfC3"
      },
      "source": [
        "Mountain car environment\r\n",
        "\r\n",
        "![1_NWmzsOUsp7boJl5DymSabg.jpeg](data:image/jpeg;base64,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)"
      ]
    },
    {
      "cell_type": "code",
      "metadata": {
        "id": "0FdJ5CxRnarY"
      },
      "source": [
        "import gym\r\n",
        "import numpy as np\r\n",
        "\r\n",
        "env = gym.make(\"MountainCar-v0\")"
      ],
      "execution_count": null,
      "outputs": []
    },
    {
      "cell_type": "code",
      "metadata": {
        "id": "p4T8rNHpnfx3"
      },
      "source": [
        "LEARNING_RATE = 0.1\r\n",
        "\r\n",
        "DISCOUNT = 0.95\r\n",
        "EPISODES = 2000\r\n",
        "SHOW_EVERY = 300"
      ],
      "execution_count": null,
      "outputs": []
    },
    {
      "cell_type": "code",
      "metadata": {
        "id": "RKy7nmO6nik-"
      },
      "source": [
        "DISCRETE_OS_SIZE = [20] * len(env.observation_space.high)\r\n",
        "discrete_os_win_size = (env.observation_space.high - env.observation_space.low)/DISCRETE_OS_SIZE\r\n",
        "\r\n",
        "# Exploration settings\r\n",
        "epsilon = 1  # not a constant, qoing to be decayed\r\n",
        "START_EPSILON_DECAYING = 1\r\n",
        "END_EPSILON_DECAYING = EPISODES//2\r\n",
        "epsilon_decay_value = epsilon/(END_EPSILON_DECAYING - START_EPSILON_DECAYING)\r\n"
      ],
      "execution_count": null,
      "outputs": []
    },
    {
      "cell_type": "code",
      "metadata": {
        "id": "9PWGRQhVnmDK"
      },
      "source": [
        "q_table = np.random.uniform(low=-2, high=0, size=(DISCRETE_OS_SIZE + [env.action_space.n]))\r\n",
        "\r\n"
      ],
      "execution_count": null,
      "outputs": []
    },
    {
      "cell_type": "code",
      "metadata": {
        "id": "mxn0KLjFnpAA"
      },
      "source": [
        "\r\n",
        "def get_discrete_state(state):\r\n",
        "    discrete_state = (state - env.observation_space.low)/discrete_os_win_size\r\n",
        "    return tuple(discrete_state.astype(np.int))  # we use this tuple to look up the 3 Q values for the available actions in the q-table\r\n"
      ],
      "execution_count": null,
      "outputs": []
    },
    {
      "cell_type": "code",
      "metadata": {
        "id": "KhIPS8POm8qO"
      },
      "source": [
        "\r\n",
        "\r\n",
        "for episode in range(EPISODES):\r\n",
        "    discrete_state = get_discrete_state(env.reset())\r\n",
        "    done = False\r\n",
        "\r\n",
        "    if episode % SHOW_EVERY == 0:\r\n",
        "        render = True\r\n",
        "        print(episode)\r\n",
        "    else:\r\n",
        "        render = False\r\n",
        "\r\n",
        "    while not done:\r\n",
        "\r\n",
        "        if np.random.random() > epsilon:\r\n",
        "            # Get action from Q table\r\n",
        "            action = np.argmax(q_table[discrete_state])\r\n",
        "        else:\r\n",
        "            # Get random action\r\n",
        "            action = np.random.randint(0, env.action_space.n)\r\n",
        "\r\n",
        "\r\n",
        "        new_state, reward, done, _ = env.step(action)\r\n",
        "\r\n",
        "        new_discrete_state = get_discrete_state(new_state)\r\n",
        "\r\n",
        "        if episode % SHOW_EVERY == 0:\r\n",
        "            env.render()\r\n",
        "        #new_q = (1 - LEARNING_RATE) * current_q + LEARNING_RATE * (reward + DISCOUNT * max_future_q)\r\n",
        "\r\n",
        "        # If simulation did not end yet after last step - update Q table\r\n",
        "        if not done:\r\n",
        "\r\n",
        "            # Maximum possible Q value in next step (for new state)\r\n",
        "            max_future_q = np.max(q_table[new_discrete_state])\r\n",
        "\r\n",
        "            # Current Q value (for current state and performed action)\r\n",
        "            current_q = q_table[discrete_state + (action,)]\r\n",
        "\r\n",
        "            # And here's our equation for a new Q value for current state and action\r\n",
        "            new_q = (1 - LEARNING_RATE) * current_q + LEARNING_RATE * (reward + DISCOUNT * max_future_q)\r\n",
        "\r\n",
        "            # Update Q table with new Q value\r\n",
        "            q_table[discrete_state + (action,)] = new_q\r\n",
        "\r\n",
        "\r\n",
        "        # Simulation ended (for any reson) - if goal position is achived - update Q value with reward directly\r\n",
        "        elif new_state[0] >= env.goal_position:\r\n",
        "            #q_table[discrete_state + (action,)] = reward\r\n",
        "            q_table[discrete_state + (action,)] = 0\r\n",
        "\r\n",
        "        discrete_state = new_discrete_state\r\n",
        "\r\n",
        "    # Decaying is being done every episode if episode number is within decaying range\r\n",
        "    if END_EPSILON_DECAYING >= episode >= START_EPSILON_DECAYING:\r\n",
        "        epsilon -= epsilon_decay_value\r\n",
        "\r\n",
        "\r\n",
        "env.close()"
      ],
      "execution_count": null,
      "outputs": []
    }
  ]
}