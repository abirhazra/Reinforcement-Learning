{
  "nbformat": 4,
  "nbformat_minor": 0,
  "metadata": {
    "colab": {
      "name": "Q-Learning (OpenAI’s gym environment).ipynb",
      "provenance": [],
      "collapsed_sections": [],
      "authorship_tag": "ABX9TyMIuECkk9HfwrBwtZjpb65G",
      "include_colab_link": true
    },
    "kernelspec": {
      "name": "python3",
      "display_name": "Python 3"
    }
  },
  "cells": [
    {
      "cell_type": "markdown",
      "metadata": {
        "id": "view-in-github",
        "colab_type": "text"
      },
      "source": [
        "<a href=\"https://colab.research.google.com/github/abirhazra/Reinforcement-Learning/blob/main/Q_Learning_(OpenAI%E2%80%99s_gym_environment).ipynb\" target=\"_parent\"><img src=\"https://colab.research.google.com/assets/colab-badge.svg\" alt=\"Open In Colab\"/></a>"
      ]
    },
    {
      "cell_type": "code",
      "metadata": {
        "id": "PUG1y1NQxUxy",
        "colab": {
          "base_uri": "https://localhost:8080/"
        },
        "outputId": "655b9222-8205-4305-84a0-595c0c3ec842"
      },
      "source": [
        "pip install gym"
      ],
      "execution_count": null,
      "outputs": [
        {
          "output_type": "stream",
          "text": [
            "Requirement already satisfied: gym in /usr/local/lib/python3.6/dist-packages (0.17.3)\n",
            "Requirement already satisfied: numpy>=1.10.4 in /usr/local/lib/python3.6/dist-packages (from gym) (1.19.5)\n",
            "Requirement already satisfied: scipy in /usr/local/lib/python3.6/dist-packages (from gym) (1.4.1)\n",
            "Requirement already satisfied: pyglet<=1.5.0,>=1.4.0 in /usr/local/lib/python3.6/dist-packages (from gym) (1.5.0)\n",
            "Requirement already satisfied: cloudpickle<1.7.0,>=1.2.0 in /usr/local/lib/python3.6/dist-packages (from gym) (1.3.0)\n",
            "Requirement already satisfied: future in /usr/local/lib/python3.6/dist-packages (from pyglet<=1.5.0,>=1.4.0->gym) (0.16.0)\n"
          ],
          "name": "stdout"
        }
      ]
    },
    {
      "cell_type": "markdown",
      "metadata": {
        "id": "9p5zgFLKGfC3"
      },
      "source": [
        "Mountain car environment\r\n",
        "\r\n",
        "![1_NWmzsOUsp7boJl5DymSabg.jpeg](data:image/jpeg;base64,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)"
      ]
    },
    {
      "cell_type": "code",
      "metadata": {
        "colab": {
          "base_uri": "https://localhost:8080/",
          "height": 374
        },
        "id": "r4EkGY-Ol2Cb",
        "outputId": "9b06b2fb-46e4-4d6d-dabe-09a03dc08d49"
      },
      "source": [
        "import gym\r\n",
        "import numpy as np\r\n",
        "\r\n",
        "env = gym.make(\"MountainCar-v0\")\r\n",
        "# env.reset()\r\n",
        "# prev_screen = env.render(mode='rgb_array')\r\n",
        "# plt.imshow(prev_screen)\r\n",
        "#env.reset()\r\n",
        "\r\n",
        "print(env.observation_space.high)\r\n",
        "print(env.observation_space.low)\r\n",
        "print(env.action_space.n)\r\n"
      ],
      "execution_count": 29,
      "outputs": [
        {
          "output_type": "error",
          "ename": "NameError",
          "evalue": "ignored",
          "traceback": [
            "\u001b[0;31m---------------------------------------------------------------------------\u001b[0m",
            "\u001b[0;31mNameError\u001b[0m                                 Traceback (most recent call last)",
            "\u001b[0;32m<ipython-input-29-b90cb916b7e2>\u001b[0m in \u001b[0;36m<module>\u001b[0;34m()\u001b[0m\n\u001b[1;32m      4\u001b[0m \u001b[0menv\u001b[0m \u001b[0;34m=\u001b[0m \u001b[0mgym\u001b[0m\u001b[0;34m.\u001b[0m\u001b[0mmake\u001b[0m\u001b[0;34m(\u001b[0m\u001b[0;34m\"MountainCar-v0\"\u001b[0m\u001b[0;34m)\u001b[0m\u001b[0;34m\u001b[0m\u001b[0;34m\u001b[0m\u001b[0m\n\u001b[1;32m      5\u001b[0m \u001b[0menv\u001b[0m\u001b[0;34m.\u001b[0m\u001b[0mreset\u001b[0m\u001b[0;34m(\u001b[0m\u001b[0;34m)\u001b[0m\u001b[0;34m\u001b[0m\u001b[0;34m\u001b[0m\u001b[0m\n\u001b[0;32m----> 6\u001b[0;31m \u001b[0mprev_screen\u001b[0m \u001b[0;34m=\u001b[0m \u001b[0menv\u001b[0m\u001b[0;34m.\u001b[0m\u001b[0mrender\u001b[0m\u001b[0;34m(\u001b[0m\u001b[0mmode\u001b[0m\u001b[0;34m=\u001b[0m\u001b[0;34m'rgb_array'\u001b[0m\u001b[0;34m)\u001b[0m\u001b[0;34m\u001b[0m\u001b[0;34m\u001b[0m\u001b[0m\n\u001b[0m\u001b[1;32m      7\u001b[0m \u001b[0mplt\u001b[0m\u001b[0;34m.\u001b[0m\u001b[0mimshow\u001b[0m\u001b[0;34m(\u001b[0m\u001b[0mprev_screen\u001b[0m\u001b[0;34m)\u001b[0m\u001b[0;34m\u001b[0m\u001b[0;34m\u001b[0m\u001b[0m\n\u001b[1;32m      8\u001b[0m \u001b[0;31m#env.reset()\u001b[0m\u001b[0;34m\u001b[0m\u001b[0;34m\u001b[0m\u001b[0;34m\u001b[0m\u001b[0m\n",
            "\u001b[0;32m/usr/local/lib/python3.6/dist-packages/gym/core.py\u001b[0m in \u001b[0;36mrender\u001b[0;34m(self, mode, **kwargs)\u001b[0m\n\u001b[1;32m    238\u001b[0m \u001b[0;34m\u001b[0m\u001b[0m\n\u001b[1;32m    239\u001b[0m     \u001b[0;32mdef\u001b[0m \u001b[0mrender\u001b[0m\u001b[0;34m(\u001b[0m\u001b[0mself\u001b[0m\u001b[0;34m,\u001b[0m \u001b[0mmode\u001b[0m\u001b[0;34m=\u001b[0m\u001b[0;34m'human'\u001b[0m\u001b[0;34m,\u001b[0m \u001b[0;34m**\u001b[0m\u001b[0mkwargs\u001b[0m\u001b[0;34m)\u001b[0m\u001b[0;34m:\u001b[0m\u001b[0;34m\u001b[0m\u001b[0;34m\u001b[0m\u001b[0m\n\u001b[0;32m--> 240\u001b[0;31m         \u001b[0;32mreturn\u001b[0m \u001b[0mself\u001b[0m\u001b[0;34m.\u001b[0m\u001b[0menv\u001b[0m\u001b[0;34m.\u001b[0m\u001b[0mrender\u001b[0m\u001b[0;34m(\u001b[0m\u001b[0mmode\u001b[0m\u001b[0;34m,\u001b[0m \u001b[0;34m**\u001b[0m\u001b[0mkwargs\u001b[0m\u001b[0;34m)\u001b[0m\u001b[0;34m\u001b[0m\u001b[0;34m\u001b[0m\u001b[0m\n\u001b[0m\u001b[1;32m    241\u001b[0m \u001b[0;34m\u001b[0m\u001b[0m\n\u001b[1;32m    242\u001b[0m     \u001b[0;32mdef\u001b[0m \u001b[0mclose\u001b[0m\u001b[0;34m(\u001b[0m\u001b[0mself\u001b[0m\u001b[0;34m)\u001b[0m\u001b[0;34m:\u001b[0m\u001b[0;34m\u001b[0m\u001b[0;34m\u001b[0m\u001b[0m\n",
            "\u001b[0;32m/usr/local/lib/python3.6/dist-packages/gym/envs/classic_control/mountain_car.py\u001b[0m in \u001b[0;36mrender\u001b[0;34m(self, mode)\u001b[0m\n\u001b[1;32m    124\u001b[0m \u001b[0;34m\u001b[0m\u001b[0m\n\u001b[1;32m    125\u001b[0m         \u001b[0;32mif\u001b[0m \u001b[0mself\u001b[0m\u001b[0;34m.\u001b[0m\u001b[0mviewer\u001b[0m \u001b[0;32mis\u001b[0m \u001b[0;32mNone\u001b[0m\u001b[0;34m:\u001b[0m\u001b[0;34m\u001b[0m\u001b[0;34m\u001b[0m\u001b[0m\n\u001b[0;32m--> 126\u001b[0;31m             \u001b[0;32mfrom\u001b[0m \u001b[0mgym\u001b[0m\u001b[0;34m.\u001b[0m\u001b[0menvs\u001b[0m\u001b[0;34m.\u001b[0m\u001b[0mclassic_control\u001b[0m \u001b[0;32mimport\u001b[0m \u001b[0mrendering\u001b[0m\u001b[0;34m\u001b[0m\u001b[0;34m\u001b[0m\u001b[0m\n\u001b[0m\u001b[1;32m    127\u001b[0m             \u001b[0mself\u001b[0m\u001b[0;34m.\u001b[0m\u001b[0mviewer\u001b[0m \u001b[0;34m=\u001b[0m \u001b[0mrendering\u001b[0m\u001b[0;34m.\u001b[0m\u001b[0mViewer\u001b[0m\u001b[0;34m(\u001b[0m\u001b[0mscreen_width\u001b[0m\u001b[0;34m,\u001b[0m \u001b[0mscreen_height\u001b[0m\u001b[0;34m)\u001b[0m\u001b[0;34m\u001b[0m\u001b[0;34m\u001b[0m\u001b[0m\n\u001b[1;32m    128\u001b[0m             \u001b[0mxs\u001b[0m \u001b[0;34m=\u001b[0m \u001b[0mnp\u001b[0m\u001b[0;34m.\u001b[0m\u001b[0mlinspace\u001b[0m\u001b[0;34m(\u001b[0m\u001b[0mself\u001b[0m\u001b[0;34m.\u001b[0m\u001b[0mmin_position\u001b[0m\u001b[0;34m,\u001b[0m \u001b[0mself\u001b[0m\u001b[0;34m.\u001b[0m\u001b[0mmax_position\u001b[0m\u001b[0;34m,\u001b[0m \u001b[0;36m100\u001b[0m\u001b[0;34m)\u001b[0m\u001b[0;34m\u001b[0m\u001b[0;34m\u001b[0m\u001b[0m\n",
            "\u001b[0;32m/usr/local/lib/python3.6/dist-packages/gym/envs/classic_control/rendering.py\u001b[0m in \u001b[0;36m<module>\u001b[0;34m()\u001b[0m\n\u001b[1;32m     23\u001b[0m \u001b[0;34m\u001b[0m\u001b[0m\n\u001b[1;32m     24\u001b[0m \u001b[0;32mtry\u001b[0m\u001b[0;34m:\u001b[0m\u001b[0;34m\u001b[0m\u001b[0;34m\u001b[0m\u001b[0m\n\u001b[0;32m---> 25\u001b[0;31m     \u001b[0;32mfrom\u001b[0m \u001b[0mpyglet\u001b[0m\u001b[0;34m.\u001b[0m\u001b[0mgl\u001b[0m \u001b[0;32mimport\u001b[0m \u001b[0;34m*\u001b[0m\u001b[0;34m\u001b[0m\u001b[0;34m\u001b[0m\u001b[0m\n\u001b[0m\u001b[1;32m     26\u001b[0m \u001b[0;32mexcept\u001b[0m \u001b[0mImportError\u001b[0m \u001b[0;32mas\u001b[0m \u001b[0me\u001b[0m\u001b[0;34m:\u001b[0m\u001b[0;34m\u001b[0m\u001b[0;34m\u001b[0m\u001b[0m\n\u001b[1;32m     27\u001b[0m     raise ImportError('''\n",
            "\u001b[0;32m/usr/local/lib/python3.6/dist-packages/pyglet/gl/__init__.py\u001b[0m in \u001b[0;36m<module>\u001b[0;34m()\u001b[0m\n\u001b[1;32m    233\u001b[0m \u001b[0;32melif\u001b[0m \u001b[0mcompat_platform\u001b[0m \u001b[0;34m==\u001b[0m \u001b[0;34m'darwin'\u001b[0m\u001b[0;34m:\u001b[0m\u001b[0;34m\u001b[0m\u001b[0;34m\u001b[0m\u001b[0m\n\u001b[1;32m    234\u001b[0m     \u001b[0;32mfrom\u001b[0m \u001b[0;34m.\u001b[0m\u001b[0mcocoa\u001b[0m \u001b[0;32mimport\u001b[0m \u001b[0mCocoaConfig\u001b[0m \u001b[0;32mas\u001b[0m \u001b[0mConfig\u001b[0m\u001b[0;34m\u001b[0m\u001b[0;34m\u001b[0m\u001b[0m\n\u001b[0;32m--> 235\u001b[0;31m \u001b[0;32mdel\u001b[0m \u001b[0mbase\u001b[0m  \u001b[0;31m# noqa: F821\u001b[0m\u001b[0;34m\u001b[0m\u001b[0;34m\u001b[0m\u001b[0m\n\u001b[0m\u001b[1;32m    236\u001b[0m \u001b[0;34m\u001b[0m\u001b[0m\n\u001b[1;32m    237\u001b[0m \u001b[0;34m\u001b[0m\u001b[0m\n",
            "\u001b[0;31mNameError\u001b[0m: name 'base' is not defined"
          ]
        }
      ]
    },
    {
      "cell_type": "code",
      "metadata": {
        "colab": {
          "base_uri": "https://localhost:8080/"
        },
        "id": "I1FCOPv9ml3f",
        "outputId": "e868a0fc-6535-44d0-9868-fc928e9e0a0f"
      },
      "source": [
        "LEARNING_RATE = 0.1\r\n",
        "DISCOUNT = 0.95\r\n",
        "EPISODES = 25000\r\n",
        "\r\n",
        "DISCRETE_OS_SIZE = [20] * len(env.observation_space.high)\r\n",
        "discrete_os_win_size = (env.observation_space.high - env.observation_space.low)/ DISCRETE_OS_SIZE\r\n",
        "\r\n",
        "print(discrete_os_win_size)\r\n",
        "\r\n",
        "q_table = np.random.uniform(low = -2, high = 0, size=(DISCRETE_OS_SIZE + [env.action_space.n]))\r\n",
        "print(q_table.shape)\r\n",
        "print(q_table)\r\n"
      ],
      "execution_count": 12,
      "outputs": [
        {
          "output_type": "stream",
          "text": [
            "[0.09  0.007]\n",
            "(20, 20, 3)\n",
            "[[[-1.64785613 -1.48589232 -0.12281259]\n",
            "  [-0.80023008 -1.42738173 -1.23552568]\n",
            "  [-0.28599105 -0.04035437 -0.88445245]\n",
            "  ...\n",
            "  [-0.15080197 -1.76170829 -1.55028618]\n",
            "  [-1.62893456 -1.22916354 -0.91129871]\n",
            "  [-1.21040194 -0.80133657 -1.754008  ]]\n",
            "\n",
            " [[-1.69528007 -0.49364294 -0.14680926]\n",
            "  [-1.61313605 -0.17748221 -0.53904228]\n",
            "  [-1.68271002 -0.24147974 -0.99160885]\n",
            "  ...\n",
            "  [-1.02639224 -1.01065643 -0.86239536]\n",
            "  [-1.32766088 -1.18717446 -1.65167317]\n",
            "  [-0.23814205 -0.54103487 -0.23587603]]\n",
            "\n",
            " [[-0.89662739 -1.5133133  -1.85473858]\n",
            "  [-1.85977295 -0.99895109 -0.35831149]\n",
            "  [-1.51811936 -0.61920875 -1.9945972 ]\n",
            "  ...\n",
            "  [-0.79037651 -1.10591685 -1.70276778]\n",
            "  [-1.85250943 -0.69252981 -0.60378557]\n",
            "  [-0.47482135 -1.77904193 -1.62941766]]\n",
            "\n",
            " ...\n",
            "\n",
            " [[-1.95183159 -1.91750128 -1.24193809]\n",
            "  [-0.04292404 -1.34235381 -1.68029329]\n",
            "  [-0.59360059 -0.44553564 -0.01696313]\n",
            "  ...\n",
            "  [-1.60409602 -0.37234528 -0.3960869 ]\n",
            "  [-1.73324281 -1.67088912 -1.89934335]\n",
            "  [-0.48472033 -1.71862423 -0.60962034]]\n",
            "\n",
            " [[-0.45955532 -1.69994637 -1.35902481]\n",
            "  [-1.27671708 -0.79283702 -0.76989759]\n",
            "  [-1.2355131  -1.34077429 -0.45071378]\n",
            "  ...\n",
            "  [-1.35231251 -0.15262241 -0.87622808]\n",
            "  [-1.46382812 -1.74027383 -0.15857135]\n",
            "  [-0.47741865 -0.5421199  -0.35787194]]\n",
            "\n",
            " [[-0.91266343 -0.65649813 -1.71644837]\n",
            "  [-0.93269459 -0.33679516 -0.70143221]\n",
            "  [-1.92131947 -1.43183463 -0.46031452]\n",
            "  ...\n",
            "  [-1.67614171 -0.43278411 -1.86919525]\n",
            "  [-1.67016173 -0.3754791  -0.17262506]\n",
            "  [-1.39329959 -0.2046133  -0.19682345]]]\n"
          ],
          "name": "stdout"
        }
      ]
    },
    {
      "cell_type": "code",
      "metadata": {
        "id": "qQslllIBgrmp"
      },
      "source": [
        "def get_discrete_state(state):\r\n",
        "  discrete_state = (state - env.observation_space.low) / discrete_os_win_size\r\n",
        "  return tuple(discrete_state.astype(np.int))"
      ],
      "execution_count": 13,
      "outputs": []
    },
    {
      "cell_type": "code",
      "metadata": {
        "id": "jMpGkSQzDmOb",
        "colab": {
          "base_uri": "https://localhost:8080/",
          "height": 391
        },
        "outputId": "0122ab18-bd88-468c-c295-726abd129df4"
      },
      "source": [
        "SHOW_EVERY = 200\r\n",
        "for episode in range (EPISODES):\r\n",
        "  if episode % SHOW_EVERY == 0:\r\n",
        "    print(episode)\r\n",
        "    render = True\r\n",
        "  else:\r\n",
        "    render = False\r\n",
        "\r\n",
        "  discrete_state = get_discrete_state(env.reset())\r\n",
        "\r\n",
        "  done = False\r\n",
        "  while not done:\r\n",
        "    action = np.argmax(q_table[discrete_state])\r\n",
        "    new_state, reward, done, _ = env.step(action)\r\n",
        "    new_discrete_state = get_discrete_state(new_state)\r\n",
        "    if render:\r\n",
        "      env.render()\r\n",
        "    if not done:\r\n",
        "      max_function_q = np.max(q_table[new_discrete_state])\r\n",
        "      current_q = q_table[discrete_state + (action, )]\r\n",
        "      new_q = (1 - LEARNING_RATE) * current_q + learning_rate * (reward + DISCOUNT * MAX_FUTURE_Q)\r\n",
        "      Q_TABLE[discrete_state + (action,)] = new_q\r\n",
        "    elif new_state[0] >= env.goal_position:\r\n",
        "      q_table[discrete_state + (action,)] = 0\r\n",
        "    discrete_state = new+discrete_state\r\n",
        "env.close()\r\n",
        "\r\n"
      ],
      "execution_count": 25,
      "outputs": [
        {
          "output_type": "stream",
          "text": [
            "0\n"
          ],
          "name": "stdout"
        },
        {
          "output_type": "error",
          "ename": "NameError",
          "evalue": "ignored",
          "traceback": [
            "\u001b[0;31m---------------------------------------------------------------------------\u001b[0m",
            "\u001b[0;31mNameError\u001b[0m                                 Traceback (most recent call last)",
            "\u001b[0;32m<ipython-input-25-aefc2ad98de6>\u001b[0m in \u001b[0;36m<module>\u001b[0;34m()\u001b[0m\n\u001b[1;32m     15\u001b[0m     \u001b[0mnew_discrete_state\u001b[0m \u001b[0;34m=\u001b[0m \u001b[0mget_discrete_state\u001b[0m\u001b[0;34m(\u001b[0m\u001b[0mnew_state\u001b[0m\u001b[0;34m)\u001b[0m\u001b[0;34m\u001b[0m\u001b[0;34m\u001b[0m\u001b[0m\n\u001b[1;32m     16\u001b[0m     \u001b[0;32mif\u001b[0m \u001b[0mrender\u001b[0m\u001b[0;34m:\u001b[0m\u001b[0;34m\u001b[0m\u001b[0;34m\u001b[0m\u001b[0m\n\u001b[0;32m---> 17\u001b[0;31m       \u001b[0menv\u001b[0m\u001b[0;34m.\u001b[0m\u001b[0mrender\u001b[0m\u001b[0;34m(\u001b[0m\u001b[0;34m)\u001b[0m\u001b[0;34m\u001b[0m\u001b[0;34m\u001b[0m\u001b[0m\n\u001b[0m\u001b[1;32m     18\u001b[0m     \u001b[0;32mif\u001b[0m \u001b[0;32mnot\u001b[0m \u001b[0mdone\u001b[0m\u001b[0;34m:\u001b[0m\u001b[0;34m\u001b[0m\u001b[0;34m\u001b[0m\u001b[0m\n\u001b[1;32m     19\u001b[0m       \u001b[0mmax_function_q\u001b[0m \u001b[0;34m=\u001b[0m \u001b[0mnp\u001b[0m\u001b[0;34m.\u001b[0m\u001b[0mmax\u001b[0m\u001b[0;34m(\u001b[0m\u001b[0mq_table\u001b[0m\u001b[0;34m[\u001b[0m\u001b[0mnew_discrete_state\u001b[0m\u001b[0;34m]\u001b[0m\u001b[0;34m)\u001b[0m\u001b[0;34m\u001b[0m\u001b[0;34m\u001b[0m\u001b[0m\n",
            "\u001b[0;32m/usr/local/lib/python3.6/dist-packages/gym/core.py\u001b[0m in \u001b[0;36mrender\u001b[0;34m(self, mode, **kwargs)\u001b[0m\n\u001b[1;32m    238\u001b[0m \u001b[0;34m\u001b[0m\u001b[0m\n\u001b[1;32m    239\u001b[0m     \u001b[0;32mdef\u001b[0m \u001b[0mrender\u001b[0m\u001b[0;34m(\u001b[0m\u001b[0mself\u001b[0m\u001b[0;34m,\u001b[0m \u001b[0mmode\u001b[0m\u001b[0;34m=\u001b[0m\u001b[0;34m'human'\u001b[0m\u001b[0;34m,\u001b[0m \u001b[0;34m**\u001b[0m\u001b[0mkwargs\u001b[0m\u001b[0;34m)\u001b[0m\u001b[0;34m:\u001b[0m\u001b[0;34m\u001b[0m\u001b[0;34m\u001b[0m\u001b[0m\n\u001b[0;32m--> 240\u001b[0;31m         \u001b[0;32mreturn\u001b[0m \u001b[0mself\u001b[0m\u001b[0;34m.\u001b[0m\u001b[0menv\u001b[0m\u001b[0;34m.\u001b[0m\u001b[0mrender\u001b[0m\u001b[0;34m(\u001b[0m\u001b[0mmode\u001b[0m\u001b[0;34m,\u001b[0m \u001b[0;34m**\u001b[0m\u001b[0mkwargs\u001b[0m\u001b[0;34m)\u001b[0m\u001b[0;34m\u001b[0m\u001b[0;34m\u001b[0m\u001b[0m\n\u001b[0m\u001b[1;32m    241\u001b[0m \u001b[0;34m\u001b[0m\u001b[0m\n\u001b[1;32m    242\u001b[0m     \u001b[0;32mdef\u001b[0m \u001b[0mclose\u001b[0m\u001b[0;34m(\u001b[0m\u001b[0mself\u001b[0m\u001b[0;34m)\u001b[0m\u001b[0;34m:\u001b[0m\u001b[0;34m\u001b[0m\u001b[0;34m\u001b[0m\u001b[0m\n",
            "\u001b[0;32m/usr/local/lib/python3.6/dist-packages/gym/envs/classic_control/mountain_car.py\u001b[0m in \u001b[0;36mrender\u001b[0;34m(self, mode)\u001b[0m\n\u001b[1;32m    124\u001b[0m \u001b[0;34m\u001b[0m\u001b[0m\n\u001b[1;32m    125\u001b[0m         \u001b[0;32mif\u001b[0m \u001b[0mself\u001b[0m\u001b[0;34m.\u001b[0m\u001b[0mviewer\u001b[0m \u001b[0;32mis\u001b[0m \u001b[0;32mNone\u001b[0m\u001b[0;34m:\u001b[0m\u001b[0;34m\u001b[0m\u001b[0;34m\u001b[0m\u001b[0m\n\u001b[0;32m--> 126\u001b[0;31m             \u001b[0;32mfrom\u001b[0m \u001b[0mgym\u001b[0m\u001b[0;34m.\u001b[0m\u001b[0menvs\u001b[0m\u001b[0;34m.\u001b[0m\u001b[0mclassic_control\u001b[0m \u001b[0;32mimport\u001b[0m \u001b[0mrendering\u001b[0m\u001b[0;34m\u001b[0m\u001b[0;34m\u001b[0m\u001b[0m\n\u001b[0m\u001b[1;32m    127\u001b[0m             \u001b[0mself\u001b[0m\u001b[0;34m.\u001b[0m\u001b[0mviewer\u001b[0m \u001b[0;34m=\u001b[0m \u001b[0mrendering\u001b[0m\u001b[0;34m.\u001b[0m\u001b[0mViewer\u001b[0m\u001b[0;34m(\u001b[0m\u001b[0mscreen_width\u001b[0m\u001b[0;34m,\u001b[0m \u001b[0mscreen_height\u001b[0m\u001b[0;34m)\u001b[0m\u001b[0;34m\u001b[0m\u001b[0;34m\u001b[0m\u001b[0m\n\u001b[1;32m    128\u001b[0m             \u001b[0mxs\u001b[0m \u001b[0;34m=\u001b[0m \u001b[0mnp\u001b[0m\u001b[0;34m.\u001b[0m\u001b[0mlinspace\u001b[0m\u001b[0;34m(\u001b[0m\u001b[0mself\u001b[0m\u001b[0;34m.\u001b[0m\u001b[0mmin_position\u001b[0m\u001b[0;34m,\u001b[0m \u001b[0mself\u001b[0m\u001b[0;34m.\u001b[0m\u001b[0mmax_position\u001b[0m\u001b[0;34m,\u001b[0m \u001b[0;36m100\u001b[0m\u001b[0;34m)\u001b[0m\u001b[0;34m\u001b[0m\u001b[0;34m\u001b[0m\u001b[0m\n",
            "\u001b[0;32m/usr/local/lib/python3.6/dist-packages/gym/envs/classic_control/rendering.py\u001b[0m in \u001b[0;36m<module>\u001b[0;34m()\u001b[0m\n\u001b[1;32m     23\u001b[0m \u001b[0;34m\u001b[0m\u001b[0m\n\u001b[1;32m     24\u001b[0m \u001b[0;32mtry\u001b[0m\u001b[0;34m:\u001b[0m\u001b[0;34m\u001b[0m\u001b[0;34m\u001b[0m\u001b[0m\n\u001b[0;32m---> 25\u001b[0;31m     \u001b[0;32mfrom\u001b[0m \u001b[0mpyglet\u001b[0m\u001b[0;34m.\u001b[0m\u001b[0mgl\u001b[0m \u001b[0;32mimport\u001b[0m \u001b[0;34m*\u001b[0m\u001b[0;34m\u001b[0m\u001b[0;34m\u001b[0m\u001b[0m\n\u001b[0m\u001b[1;32m     26\u001b[0m \u001b[0;32mexcept\u001b[0m \u001b[0mImportError\u001b[0m \u001b[0;32mas\u001b[0m \u001b[0me\u001b[0m\u001b[0;34m:\u001b[0m\u001b[0;34m\u001b[0m\u001b[0;34m\u001b[0m\u001b[0m\n\u001b[1;32m     27\u001b[0m     raise ImportError('''\n",
            "\u001b[0;32m/usr/local/lib/python3.6/dist-packages/pyglet/gl/__init__.py\u001b[0m in \u001b[0;36m<module>\u001b[0;34m()\u001b[0m\n\u001b[1;32m    233\u001b[0m \u001b[0;32melif\u001b[0m \u001b[0mcompat_platform\u001b[0m \u001b[0;34m==\u001b[0m \u001b[0;34m'darwin'\u001b[0m\u001b[0;34m:\u001b[0m\u001b[0;34m\u001b[0m\u001b[0;34m\u001b[0m\u001b[0m\n\u001b[1;32m    234\u001b[0m     \u001b[0;32mfrom\u001b[0m \u001b[0;34m.\u001b[0m\u001b[0mcocoa\u001b[0m \u001b[0;32mimport\u001b[0m \u001b[0mCocoaConfig\u001b[0m \u001b[0;32mas\u001b[0m \u001b[0mConfig\u001b[0m\u001b[0;34m\u001b[0m\u001b[0;34m\u001b[0m\u001b[0m\n\u001b[0;32m--> 235\u001b[0;31m \u001b[0;32mdel\u001b[0m \u001b[0mbase\u001b[0m  \u001b[0;31m# noqa: F821\u001b[0m\u001b[0;34m\u001b[0m\u001b[0;34m\u001b[0m\u001b[0m\n\u001b[0m\u001b[1;32m    236\u001b[0m \u001b[0;34m\u001b[0m\u001b[0m\n\u001b[1;32m    237\u001b[0m \u001b[0;34m\u001b[0m\u001b[0m\n",
            "\u001b[0;31mNameError\u001b[0m: name 'base' is not defined"
          ]
        }
      ]
    },
    {
      "cell_type": "code",
      "metadata": {
        "id": "Oig3NVoIfc8R"
      },
      "source": [
        "#remove \" > /dev/null 2>&1\" to see what is going on under the hood\r\n",
        "!pip install gym pyvirtualdisplay > /dev/null 2>&1\r\n",
        "!apt-get install -y xvfb python-opengl ffmpeg > /dev/null 2>&1"
      ],
      "execution_count": 16,
      "outputs": []
    },
    {
      "cell_type": "code",
      "metadata": {
        "colab": {
          "base_uri": "https://localhost:8080/"
        },
        "id": "UUVi1uXFowU1",
        "outputId": "a0969052-dd78-41f5-8d2c-1465c9178820"
      },
      "source": [
        "!apt-get update > /dev/null 2>&1\r\n",
        "!apt-get install cmake > /dev/null 2>&1\r\n",
        "!pip install --upgrade setuptools 2>&1\r\n",
        "!pip install ez_setup > /dev/null 2>&1\r\n",
        "!pip install gym[atari] > /dev/null 2>&1"
      ],
      "execution_count": 17,
      "outputs": [
        {
          "output_type": "stream",
          "text": [
            "Requirement already up-to-date: setuptools in /usr/local/lib/python3.6/dist-packages (53.0.0)\n"
          ],
          "name": "stdout"
        }
      ]
    },
    {
      "cell_type": "code",
      "metadata": {
        "id": "L-_RWYh0o0gt"
      },
      "source": [
        "\r\n",
        "def show_video():\r\n",
        "  mp4list = glob.glob('video/*.mp4')\r\n",
        "  if len(mp4list) > 0:\r\n",
        "    mp4 = mp4list[0]\r\n",
        "    video = io.open(mp4, 'r+b').read()\r\n",
        "    encoded = base64.b64encode(video)\r\n",
        "    ipythondisplay.display(HTML(data='''<video alt=\"test\" autoplay \r\n",
        "                loop controls style=\"height: 400px;\">\r\n",
        "                <source src=\"data:video/mp4;base64,{0}\" type=\"video/mp4\" />\r\n",
        "             </video>'''.format(encoded.decode('ascii'))))\r\n",
        "  else: \r\n",
        "    print(\"Could not find video\")\r\n",
        "    \r\n",
        "\r\n",
        "def wrap_env(env):\r\n",
        "  env = Monitor(env, './video', force=True)\r\n",
        "  return env"
      ],
      "execution_count": 18,
      "outputs": []
    },
    {
      "cell_type": "code",
      "metadata": {
        "colab": {
          "base_uri": "https://localhost:8080/",
          "height": 265
        },
        "id": "GiORglBro-kb",
        "outputId": "6ae66547-1aa6-4152-c680-8b6b98175370"
      },
      "source": [
        "env = wrap_env(gym.make(\"MsPacman-v0\"))"
      ],
      "execution_count": 19,
      "outputs": [
        {
          "output_type": "error",
          "ename": "NameError",
          "evalue": "ignored",
          "traceback": [
            "\u001b[0;31m---------------------------------------------------------------------------\u001b[0m",
            "\u001b[0;31mNameError\u001b[0m                                 Traceback (most recent call last)",
            "\u001b[0;32m<ipython-input-19-b5464006c7a8>\u001b[0m in \u001b[0;36m<module>\u001b[0;34m()\u001b[0m\n\u001b[0;32m----> 1\u001b[0;31m \u001b[0menv\u001b[0m \u001b[0;34m=\u001b[0m \u001b[0mwrap_env\u001b[0m\u001b[0;34m(\u001b[0m\u001b[0mgym\u001b[0m\u001b[0;34m.\u001b[0m\u001b[0mmake\u001b[0m\u001b[0;34m(\u001b[0m\u001b[0;34m\"MsPacman-v0\"\u001b[0m\u001b[0;34m)\u001b[0m\u001b[0;34m)\u001b[0m\u001b[0;34m\u001b[0m\u001b[0;34m\u001b[0m\u001b[0m\n\u001b[0m",
            "\u001b[0;32m<ipython-input-18-d44a6da6ae3c>\u001b[0m in \u001b[0;36mwrap_env\u001b[0;34m(env)\u001b[0m\n\u001b[1;32m     15\u001b[0m \u001b[0;34m\u001b[0m\u001b[0m\n\u001b[1;32m     16\u001b[0m \u001b[0;32mdef\u001b[0m \u001b[0mwrap_env\u001b[0m\u001b[0;34m(\u001b[0m\u001b[0menv\u001b[0m\u001b[0;34m)\u001b[0m\u001b[0;34m:\u001b[0m\u001b[0;34m\u001b[0m\u001b[0;34m\u001b[0m\u001b[0m\n\u001b[0;32m---> 17\u001b[0;31m   \u001b[0menv\u001b[0m \u001b[0;34m=\u001b[0m \u001b[0mMonitor\u001b[0m\u001b[0;34m(\u001b[0m\u001b[0menv\u001b[0m\u001b[0;34m,\u001b[0m \u001b[0;34m'./video'\u001b[0m\u001b[0;34m,\u001b[0m \u001b[0mforce\u001b[0m\u001b[0;34m=\u001b[0m\u001b[0;32mTrue\u001b[0m\u001b[0;34m)\u001b[0m\u001b[0;34m\u001b[0m\u001b[0;34m\u001b[0m\u001b[0m\n\u001b[0m\u001b[1;32m     18\u001b[0m   \u001b[0;32mreturn\u001b[0m \u001b[0menv\u001b[0m\u001b[0;34m\u001b[0m\u001b[0;34m\u001b[0m\u001b[0m\n",
            "\u001b[0;31mNameError\u001b[0m: name 'Monitor' is not defined"
          ]
        }
      ]
    },
    {
      "cell_type": "code",
      "metadata": {
        "id": "xOWMBcBYpAqo"
      },
      "source": [
        "!apt-get install -y xvfb python-opengl > /dev/null 2>&1"
      ],
      "execution_count": 21,
      "outputs": []
    },
    {
      "cell_type": "code",
      "metadata": {
        "id": "H_-hLW9kpcG7"
      },
      "source": [
        "!pip install gym pyvirtualdisplay > /dev/null 2>&1"
      ],
      "execution_count": 22,
      "outputs": []
    },
    {
      "cell_type": "code",
      "metadata": {
        "id": "n7-R8CYzpd0i"
      },
      "source": [
        "import gym\r\n",
        "import numpy as np\r\n",
        "import matplotlib.pyplot as plt\r\n",
        "from IPython import display as ipythondisplay"
      ],
      "execution_count": 23,
      "outputs": []
    },
    {
      "cell_type": "code",
      "metadata": {
        "colab": {
          "base_uri": "https://localhost:8080/"
        },
        "id": "RHZQV9tNpfe6",
        "outputId": "b536e4c9-0778-48d9-a55c-193d9006ae45"
      },
      "source": [
        "from pyvirtualdisplay import Display\r\n",
        "display = Display(visible=0, size=(400, 300))\r\n",
        "display.start()"
      ],
      "execution_count": 24,
      "outputs": [
        {
          "output_type": "execute_result",
          "data": {
            "text/plain": [
              "<pyvirtualdisplay.display.Display at 0x7f038b8615c0>"
            ]
          },
          "metadata": {
            "tags": []
          },
          "execution_count": 24
        }
      ]
    },
    {
      "cell_type": "code",
      "metadata": {
        "id": "Subo9G60pg7k"
      },
      "source": [
        ""
      ],
      "execution_count": null,
      "outputs": []
    }
  ]
}