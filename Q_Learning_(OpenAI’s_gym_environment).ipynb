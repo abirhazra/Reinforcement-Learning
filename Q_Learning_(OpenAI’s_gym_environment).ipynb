{
  "nbformat": 4,
  "nbformat_minor": 0,
  "metadata": {
    "colab": {
      "name": "Q-Learning (OpenAI’s gym environment).ipynb",
      "provenance": [],
      "collapsed_sections": [],
      "authorship_tag": "ABX9TyMFD1Ikf+kcl/E18ESuieEj",
      "include_colab_link": true
    },
    "kernelspec": {
      "name": "python3",
      "display_name": "Python 3"
    }
  },
  "cells": [
    {
      "cell_type": "markdown",
      "metadata": {
        "id": "view-in-github",
        "colab_type": "text"
      },
      "source": [
        "<a href=\"https://colab.research.google.com/github/abirhazra/Reinforcement-Learning/blob/main/Q_Learning_(OpenAI%E2%80%99s_gym_environment).ipynb\" target=\"_parent\"><img src=\"https://colab.research.google.com/assets/colab-badge.svg\" alt=\"Open In Colab\"/></a>"
      ]
    },
    {
      "cell_type": "code",
      "metadata": {
        "id": "PUG1y1NQxUxy",
        "colab": {
          "base_uri": "https://localhost:8080/"
        },
        "outputId": "0bf4a23c-6c16-40e7-e611-7eaac5af959a"
      },
      "source": [
        "!pip install gym"
      ],
      "execution_count": 40,
      "outputs": [
        {
          "output_type": "stream",
          "text": [
            "Requirement already satisfied: gym in /usr/local/lib/python3.6/dist-packages (0.17.3)\n",
            "Requirement already satisfied: cloudpickle<1.7.0,>=1.2.0 in /usr/local/lib/python3.6/dist-packages (from gym) (1.3.0)\n",
            "Requirement already satisfied: scipy in /usr/local/lib/python3.6/dist-packages (from gym) (1.4.1)\n",
            "Requirement already satisfied: numpy>=1.10.4 in /usr/local/lib/python3.6/dist-packages (from gym) (1.19.5)\n",
            "Requirement already satisfied: pyglet<=1.5.0,>=1.4.0 in /usr/local/lib/python3.6/dist-packages (from gym) (1.5.0)\n",
            "Requirement already satisfied: future in /usr/local/lib/python3.6/dist-packages (from pyglet<=1.5.0,>=1.4.0->gym) (0.16.0)\n"
          ],
          "name": "stdout"
        }
      ]
    },
    {
      "cell_type": "markdown",
      "metadata": {
        "id": "9p5zgFLKGfC3"
      },
      "source": [
        "Mountain car environment\r\n",
        "\r\n",
        "![1_NWmzsOUsp7boJl5DymSabg.jpeg](data:image/jpeg;base64,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)"
      ]
    },
    {
      "cell_type": "code",
      "metadata": {
        "id": "0FdJ5CxRnarY"
      },
      "source": [
        "import gym\r\n",
        "import numpy as np\r\n",
        "\r\n",
        "env = gym.make(\"MountainCar-v0\")"
      ],
      "execution_count": 41,
      "outputs": []
    },
    {
      "cell_type": "code",
      "metadata": {
        "id": "p4T8rNHpnfx3"
      },
      "source": [
        "LEARNING_RATE = 0.1\r\n",
        "\r\n",
        "DISCOUNT = 0.95\r\n",
        "EPISODES = 2000\r\n",
        "SHOW_EVERY = 300"
      ],
      "execution_count": 42,
      "outputs": []
    },
    {
      "cell_type": "code",
      "metadata": {
        "id": "RKy7nmO6nik-"
      },
      "source": [
        "DISCRETE_OS_SIZE = [20] * len(env.observation_space.high)\r\n",
        "discrete_os_win_size = (env.observation_space.high - env.observation_space.low)/DISCRETE_OS_SIZE\r\n",
        "\r\n",
        "# Exploration settings\r\n",
        "epsilon = 1  # not a constant, qoing to be decayed\r\n",
        "START_EPSILON_DECAYING = 1\r\n",
        "END_EPSILON_DECAYING = EPISODES//2\r\n",
        "epsilon_decay_value = epsilon/(END_EPSILON_DECAYING - START_EPSILON_DECAYING)\r\n"
      ],
      "execution_count": 43,
      "outputs": []
    },
    {
      "cell_type": "code",
      "metadata": {
        "colab": {
          "base_uri": "https://localhost:8080/"
        },
        "id": "9PWGRQhVnmDK",
        "outputId": "f7391b52-22e5-4d5e-c1f5-dab3f5cdf911"
      },
      "source": [
        "q_table = np.random.uniform(low=-2, high=0, size=(DISCRETE_OS_SIZE + [env.action_space.n]))\r\n",
        "\r\n",
        "q_table"
      ],
      "execution_count": 44,
      "outputs": [
        {
          "output_type": "execute_result",
          "data": {
            "text/plain": [
              "array([[[-1.61652334, -0.66366435, -1.11885017],\n",
              "        [-0.1298916 , -1.45814234, -1.61626992],\n",
              "        [-0.8478951 , -0.58015934, -0.75969498],\n",
              "        ...,\n",
              "        [-1.53885999, -0.28250027, -0.59639429],\n",
              "        [-1.52715073, -1.70364945, -1.24852428],\n",
              "        [-1.42520973, -0.89024492, -1.19632297]],\n",
              "\n",
              "       [[-0.33031949, -0.26288587, -0.96159422],\n",
              "        [-0.9651632 , -1.63508764, -1.97868126],\n",
              "        [-1.08436064, -0.17522431, -0.37691756],\n",
              "        ...,\n",
              "        [-1.58608767, -0.25796703, -0.13151544],\n",
              "        [-0.62257818, -1.0760845 , -1.01355103],\n",
              "        [-0.71152338, -1.68828305, -0.47642927]],\n",
              "\n",
              "       [[-1.44740866, -1.11137168, -1.81272914],\n",
              "        [-0.65989302, -0.01980789, -0.25128208],\n",
              "        [-0.24581594, -1.68047906, -0.73527647],\n",
              "        ...,\n",
              "        [-1.91453728, -0.74844919, -0.87260198],\n",
              "        [-0.04888456, -0.87368933, -0.02629841],\n",
              "        [-0.32422308, -1.671669  , -0.12945459]],\n",
              "\n",
              "       ...,\n",
              "\n",
              "       [[-0.22884295, -1.93576664, -1.01032976],\n",
              "        [-0.43570061, -1.98828252, -0.94082942],\n",
              "        [-1.59537738, -1.39674876, -0.73258739],\n",
              "        ...,\n",
              "        [-1.80520802, -1.57095397, -1.26833955],\n",
              "        [-0.69293715, -0.33189911, -1.72010133],\n",
              "        [-1.51457014, -0.69699174, -0.05393476]],\n",
              "\n",
              "       [[-1.92548525, -0.2173106 , -0.76410379],\n",
              "        [-0.63494506, -1.98578254, -1.51458026],\n",
              "        [-0.26708361, -1.84791685, -0.09247582],\n",
              "        ...,\n",
              "        [-0.02350785, -1.5752671 , -1.67677247],\n",
              "        [-1.14380256, -1.46534589, -0.13317117],\n",
              "        [-1.12875839, -1.68673516, -1.32591126]],\n",
              "\n",
              "       [[-0.96731487, -0.16078791, -1.77482341],\n",
              "        [-1.54042756, -1.92000166, -0.82620048],\n",
              "        [-0.96775632, -0.22659224, -1.8286285 ],\n",
              "        ...,\n",
              "        [-1.82138148, -1.06949739, -0.21285468],\n",
              "        [-0.12470472, -0.4529013 , -0.42596537],\n",
              "        [-1.43779668, -0.40762586, -1.18260745]]])"
            ]
          },
          "metadata": {
            "tags": []
          },
          "execution_count": 44
        }
      ]
    },
    {
      "cell_type": "code",
      "metadata": {
        "id": "mxn0KLjFnpAA"
      },
      "source": [
        "def get_discrete_state(state):\r\n",
        "    discrete_state = (state - env.observation_space.low)/discrete_os_win_size\r\n",
        "    return tuple(discrete_state.astype(np.int))  # we use this tuple to look up the 3 Q values for the available actions in the q-table"
      ],
      "execution_count": 45,
      "outputs": []
    },
    {
      "cell_type": "code",
      "metadata": {
        "colab": {
          "base_uri": "https://localhost:8080/"
        },
        "id": "KhIPS8POm8qO",
        "outputId": "9906740d-3824-4b8e-f789-b5174e523ffe"
      },
      "source": [
        "for episode in range(EPISODES):\r\n",
        "    discrete_state = get_discrete_state(env.reset())\r\n",
        "    done = False\r\n",
        "\r\n",
        "    if episode % SHOW_EVERY == 0:\r\n",
        "        render = True\r\n",
        "        print(episode)\r\n",
        "    else:\r\n",
        "        render = False\r\n",
        "\r\n",
        "    while not done:\r\n",
        "\r\n",
        "        if np.random.random() > epsilon:\r\n",
        "            # Get action from Q table\r\n",
        "            action = np.argmax(q_table[discrete_state])\r\n",
        "        else:\r\n",
        "            # Get random action\r\n",
        "            action = np.random.randint(0, env.action_space.n)\r\n",
        "\r\n",
        "\r\n",
        "        new_state, reward, done, _ = env.step(action)\r\n",
        "\r\n",
        "        new_discrete_state = get_discrete_state(new_state)\r\n",
        "\r\n",
        "        # if episode % SHOW_EVERY == 0:\r\n",
        "        #     env.render()\r\n",
        "        #new_q = (1 - LEARNING_RATE) * current_q + LEARNING_RATE * (reward + DISCOUNT * max_future_q)\r\n",
        "\r\n",
        "        # If simulation did not end yet after last step - update Q table\r\n",
        "        if not done:\r\n",
        "\r\n",
        "            # Maximum possible Q value in next step (for new state)\r\n",
        "            max_future_q = np.max(q_table[new_discrete_state])\r\n",
        "\r\n",
        "            # Current Q value (for current state and performed action)\r\n",
        "            current_q = q_table[discrete_state + (action,)]\r\n",
        "\r\n",
        "            # And here's our equation for a new Q value for current state and action\r\n",
        "            new_q = (1 - LEARNING_RATE) * current_q + LEARNING_RATE * (reward + DISCOUNT * max_future_q)\r\n",
        "\r\n",
        "            # Update Q table with new Q value\r\n",
        "            q_table[discrete_state + (action,)] = new_q\r\n",
        "\r\n",
        "\r\n",
        "        # Simulation ended (for any reson) - if goal position is achived - update Q value with reward directly\r\n",
        "        elif new_state[0] >= env.goal_position:\r\n",
        "            #q_table[discrete_state + (action,)] = reward\r\n",
        "            q_table[discrete_state + (action,)] = 0\r\n",
        "\r\n",
        "        discrete_state = new_discrete_state\r\n",
        "\r\n",
        "    # Decaying is being done every episode if episode number is within decaying range\r\n",
        "    if END_EPSILON_DECAYING >= episode >= START_EPSILON_DECAYING:\r\n",
        "        epsilon -= epsilon_decay_value\r\n",
        "\r\n",
        "\r\n",
        "env.close()"
      ],
      "execution_count": 46,
      "outputs": [
        {
          "output_type": "stream",
          "text": [
            "0\n",
            "300\n",
            "600\n",
            "900\n",
            "1200\n",
            "1500\n",
            "1800\n"
          ],
          "name": "stdout"
        }
      ]
    },
    {
      "cell_type": "code",
      "metadata": {
        "id": "H82PHg7_oaQR"
      },
      "source": [
        "ep_rewards = []\r\n",
        "aggr_ep_rewards = {'ep': [], 'avg': [], 'max': [], 'min': []}"
      ],
      "execution_count": 47,
      "outputs": []
    },
    {
      "cell_type": "code",
      "metadata": {
        "colab": {
          "base_uri": "https://localhost:8080/"
        },
        "id": "3lUxX9xLoDxk",
        "outputId": "5c7cefa4-7a21-4632-b4a6-eaba775cce6c"
      },
      "source": [
        "STATS_EVERY = 100\r\n",
        "LEARNING_RATE = 0.001\r\n",
        "\r\n",
        "DISCOUNT = 0.95\r\n",
        "EPISODES = 10000\r\n",
        "SHOW_EVERY = 200\r\n",
        "\r\n",
        "for episode in range(EPISODES):\r\n",
        "    episode_reward = 0\r\n",
        "    discrete_state = get_discrete_state(env.reset())\r\n",
        "    done = False\r\n",
        "\r\n",
        "    if episode % SHOW_EVERY == 0:\r\n",
        "        render = True\r\n",
        "        print(episode)\r\n",
        "    else:\r\n",
        "        render = False\r\n",
        "\r\n",
        "    while not done:\r\n",
        "\r\n",
        "        if np.random.random() > epsilon:\r\n",
        "            # Get action from Q table\r\n",
        "            action = np.argmax(q_table[discrete_state])\r\n",
        "        else:\r\n",
        "            # Get random action\r\n",
        "            action = np.random.randint(0, env.action_space.n)\r\n",
        "\r\n",
        "\r\n",
        "        new_state, reward, done, _ = env.step(action)\r\n",
        "        episode_reward += reward\r\n",
        "\r\n",
        "        new_discrete_state = get_discrete_state(new_state)\r\n",
        "\r\n",
        "        # if episode % SHOW_EVERY == 0:\r\n",
        "        #     env.render()\r\n",
        "        #new_q = (1 - LEARNING_RATE) * current_q + LEARNING_RATE * (reward + DISCOUNT * max_future_q)\r\n",
        "\r\n",
        "        # If simulation did not end yet after last step - update Q table\r\n",
        "        if not done:\r\n",
        "\r\n",
        "            # Maximum possible Q value in next step (for new state)\r\n",
        "            max_future_q = np.max(q_table[new_discrete_state])\r\n",
        "\r\n",
        "            # Current Q value (for current state and performed action)\r\n",
        "            current_q = q_table[discrete_state + (action,)]\r\n",
        "\r\n",
        "            # And here's our equation for a new Q value for current state and action\r\n",
        "            new_q = (1 - LEARNING_RATE) * current_q + LEARNING_RATE * (reward + DISCOUNT * max_future_q)\r\n",
        "\r\n",
        "            # Update Q table with new Q value\r\n",
        "            q_table[discrete_state + (action,)] = new_q\r\n",
        "\r\n",
        "\r\n",
        "        # Simulation ended (for any reson) - if goal position is achived - update Q value with reward directly\r\n",
        "        elif new_state[0] >= env.goal_position:\r\n",
        "            #q_table[discrete_state + (action,)] = reward\r\n",
        "            q_table[discrete_state + (action,)] = 0\r\n",
        "\r\n",
        "        discrete_state = new_discrete_state\r\n",
        "\r\n",
        "    # Decaying is being done every episode if episode number is within decaying range\r\n",
        "    if END_EPSILON_DECAYING >= episode >= START_EPSILON_DECAYING:\r\n",
        "        epsilon -= epsilon_decay_value\r\n",
        "    ep_rewards.append(episode_reward)\r\n",
        "    if not episode % STATS_EVERY:\r\n",
        "        average_reward = sum(ep_rewards[-STATS_EVERY:])/STATS_EVERY\r\n",
        "        aggr_ep_rewards['ep'].append(episode)\r\n",
        "        aggr_ep_rewards['avg'].append(average_reward)\r\n",
        "        aggr_ep_rewards['max'].append(max(ep_rewards[-STATS_EVERY:]))\r\n",
        "        aggr_ep_rewards['min'].append(min(ep_rewards[-STATS_EVERY:]))\r\n",
        "        print(f'Episode: {episode:>5d}, average reward: {average_reward:>4.1f}, current epsilon: {epsilon:>1.2f}')\r\n",
        "env.close()\r\n",
        "\r\n"
      ],
      "execution_count": 48,
      "outputs": [
        {
          "output_type": "stream",
          "text": [
            "0\n",
            "Episode:     0, average reward: -1.9, current epsilon: -0.00\n",
            "Episode:   100, average reward: -192.2, current epsilon: -0.10\n",
            "200\n",
            "Episode:   200, average reward: -175.4, current epsilon: -0.20\n",
            "Episode:   300, average reward: -166.3, current epsilon: -0.30\n",
            "400\n",
            "Episode:   400, average reward: -165.9, current epsilon: -0.40\n",
            "Episode:   500, average reward: -152.0, current epsilon: -0.50\n",
            "600\n",
            "Episode:   600, average reward: -152.8, current epsilon: -0.60\n",
            "Episode:   700, average reward: -160.9, current epsilon: -0.70\n",
            "800\n",
            "Episode:   800, average reward: -152.9, current epsilon: -0.80\n",
            "Episode:   900, average reward: -159.8, current epsilon: -0.90\n",
            "1000\n",
            "Episode:  1000, average reward: -163.2, current epsilon: -1.00\n",
            "Episode:  1100, average reward: -161.8, current epsilon: -1.00\n",
            "1200\n",
            "Episode:  1200, average reward: -160.4, current epsilon: -1.00\n",
            "Episode:  1300, average reward: -162.7, current epsilon: -1.00\n",
            "1400\n",
            "Episode:  1400, average reward: -161.5, current epsilon: -1.00\n",
            "Episode:  1500, average reward: -158.9, current epsilon: -1.00\n",
            "1600\n",
            "Episode:  1600, average reward: -165.4, current epsilon: -1.00\n",
            "Episode:  1700, average reward: -167.6, current epsilon: -1.00\n",
            "1800\n",
            "Episode:  1800, average reward: -162.7, current epsilon: -1.00\n",
            "Episode:  1900, average reward: -166.1, current epsilon: -1.00\n",
            "2000\n",
            "Episode:  2000, average reward: -160.9, current epsilon: -1.00\n",
            "Episode:  2100, average reward: -160.7, current epsilon: -1.00\n",
            "2200\n",
            "Episode:  2200, average reward: -161.2, current epsilon: -1.00\n",
            "Episode:  2300, average reward: -156.4, current epsilon: -1.00\n",
            "2400\n",
            "Episode:  2400, average reward: -159.3, current epsilon: -1.00\n",
            "Episode:  2500, average reward: -158.4, current epsilon: -1.00\n",
            "2600\n",
            "Episode:  2600, average reward: -165.8, current epsilon: -1.00\n",
            "Episode:  2700, average reward: -147.0, current epsilon: -1.00\n",
            "2800\n",
            "Episode:  2800, average reward: -152.5, current epsilon: -1.00\n",
            "Episode:  2900, average reward: -151.3, current epsilon: -1.00\n",
            "3000\n",
            "Episode:  3000, average reward: -148.4, current epsilon: -1.00\n",
            "Episode:  3100, average reward: -156.6, current epsilon: -1.00\n",
            "3200\n",
            "Episode:  3200, average reward: -153.6, current epsilon: -1.00\n",
            "Episode:  3300, average reward: -159.9, current epsilon: -1.00\n",
            "3400\n",
            "Episode:  3400, average reward: -160.0, current epsilon: -1.00\n",
            "Episode:  3500, average reward: -171.3, current epsilon: -1.00\n",
            "3600\n",
            "Episode:  3600, average reward: -170.0, current epsilon: -1.00\n",
            "Episode:  3700, average reward: -168.9, current epsilon: -1.00\n",
            "3800\n",
            "Episode:  3800, average reward: -172.2, current epsilon: -1.00\n",
            "Episode:  3900, average reward: -167.4, current epsilon: -1.00\n",
            "4000\n",
            "Episode:  4000, average reward: -167.6, current epsilon: -1.00\n",
            "Episode:  4100, average reward: -170.6, current epsilon: -1.00\n",
            "4200\n",
            "Episode:  4200, average reward: -177.0, current epsilon: -1.00\n",
            "Episode:  4300, average reward: -179.8, current epsilon: -1.00\n",
            "4400\n",
            "Episode:  4400, average reward: -178.2, current epsilon: -1.00\n",
            "Episode:  4500, average reward: -175.5, current epsilon: -1.00\n",
            "4600\n",
            "Episode:  4600, average reward: -169.6, current epsilon: -1.00\n",
            "Episode:  4700, average reward: -170.6, current epsilon: -1.00\n",
            "4800\n",
            "Episode:  4800, average reward: -170.2, current epsilon: -1.00\n",
            "Episode:  4900, average reward: -170.1, current epsilon: -1.00\n",
            "5000\n",
            "Episode:  5000, average reward: -170.4, current epsilon: -1.00\n",
            "Episode:  5100, average reward: -167.9, current epsilon: -1.00\n",
            "5200\n",
            "Episode:  5200, average reward: -170.7, current epsilon: -1.00\n",
            "Episode:  5300, average reward: -167.9, current epsilon: -1.00\n",
            "5400\n",
            "Episode:  5400, average reward: -167.4, current epsilon: -1.00\n",
            "Episode:  5500, average reward: -164.9, current epsilon: -1.00\n",
            "5600\n",
            "Episode:  5600, average reward: -168.2, current epsilon: -1.00\n",
            "Episode:  5700, average reward: -168.2, current epsilon: -1.00\n",
            "5800\n",
            "Episode:  5800, average reward: -168.2, current epsilon: -1.00\n",
            "Episode:  5900, average reward: -166.2, current epsilon: -1.00\n",
            "6000\n",
            "Episode:  6000, average reward: -170.2, current epsilon: -1.00\n",
            "Episode:  6100, average reward: -168.2, current epsilon: -1.00\n",
            "6200\n",
            "Episode:  6200, average reward: -168.6, current epsilon: -1.00\n",
            "Episode:  6300, average reward: -166.9, current epsilon: -1.00\n",
            "6400\n",
            "Episode:  6400, average reward: -168.8, current epsilon: -1.00\n",
            "Episode:  6500, average reward: -166.1, current epsilon: -1.00\n",
            "6600\n",
            "Episode:  6600, average reward: -166.8, current epsilon: -1.00\n",
            "Episode:  6700, average reward: -168.4, current epsilon: -1.00\n",
            "6800\n",
            "Episode:  6800, average reward: -166.2, current epsilon: -1.00\n",
            "Episode:  6900, average reward: -164.0, current epsilon: -1.00\n",
            "7000\n",
            "Episode:  7000, average reward: -164.6, current epsilon: -1.00\n",
            "Episode:  7100, average reward: -162.0, current epsilon: -1.00\n",
            "7200\n",
            "Episode:  7200, average reward: -162.2, current epsilon: -1.00\n",
            "Episode:  7300, average reward: -159.9, current epsilon: -1.00\n",
            "7400\n",
            "Episode:  7400, average reward: -163.4, current epsilon: -1.00\n",
            "Episode:  7500, average reward: -167.0, current epsilon: -1.00\n",
            "7600\n",
            "Episode:  7600, average reward: -166.3, current epsilon: -1.00\n",
            "Episode:  7700, average reward: -172.5, current epsilon: -1.00\n",
            "7800\n",
            "Episode:  7800, average reward: -172.2, current epsilon: -1.00\n",
            "Episode:  7900, average reward: -170.6, current epsilon: -1.00\n",
            "8000\n",
            "Episode:  8000, average reward: -168.2, current epsilon: -1.00\n",
            "Episode:  8100, average reward: -167.4, current epsilon: -1.00\n",
            "8200\n",
            "Episode:  8200, average reward: -167.9, current epsilon: -1.00\n",
            "Episode:  8300, average reward: -168.4, current epsilon: -1.00\n",
            "8400\n",
            "Episode:  8400, average reward: -164.1, current epsilon: -1.00\n",
            "Episode:  8500, average reward: -163.6, current epsilon: -1.00\n",
            "8600\n",
            "Episode:  8600, average reward: -162.1, current epsilon: -1.00\n",
            "Episode:  8700, average reward: -166.3, current epsilon: -1.00\n",
            "8800\n",
            "Episode:  8800, average reward: -167.0, current epsilon: -1.00\n",
            "Episode:  8900, average reward: -164.2, current epsilon: -1.00\n",
            "9000\n",
            "Episode:  9000, average reward: -171.2, current epsilon: -1.00\n",
            "Episode:  9100, average reward: -163.2, current epsilon: -1.00\n",
            "9200\n",
            "Episode:  9200, average reward: -163.2, current epsilon: -1.00\n",
            "Episode:  9300, average reward: -162.0, current epsilon: -1.00\n",
            "9400\n",
            "Episode:  9400, average reward: -159.8, current epsilon: -1.00\n",
            "Episode:  9500, average reward: -158.4, current epsilon: -1.00\n",
            "9600\n",
            "Episode:  9600, average reward: -157.8, current epsilon: -1.00\n",
            "Episode:  9700, average reward: -163.6, current epsilon: -1.00\n",
            "9800\n",
            "Episode:  9800, average reward: -161.8, current epsilon: -1.00\n",
            "Episode:  9900, average reward: -162.9, current epsilon: -1.00\n"
          ],
          "name": "stdout"
        }
      ]
    },
    {
      "cell_type": "code",
      "metadata": {
        "colab": {
          "base_uri": "https://localhost:8080/",
          "height": 265
        },
        "id": "BnBC40vdo344",
        "outputId": "38558ab5-b723-4204-e7b6-a459bc1450ba"
      },
      "source": [
        "import matplotlib.pyplot as plt\r\n",
        "plt.plot(aggr_ep_rewards['ep'], aggr_ep_rewards['avg'], label=\"average rewards\")\r\n",
        "plt.plot(aggr_ep_rewards['ep'], aggr_ep_rewards['max'], label=\"max rewards\")\r\n",
        "plt.plot(aggr_ep_rewards['ep'], aggr_ep_rewards['min'], label=\"min rewards\")\r\n",
        "plt.legend(loc=4)\r\n",
        "plt.show()"
      ],
      "execution_count": 50,
      "outputs": [
        {
          "output_type": "display_data",
          "data": {
            "image/png": "[encoded data removed]",
            "text/plain": [
              "<Figure size 432x288 with 1 Axes>"
            ]
          },
          "metadata": {
            "tags": []
          }
        }
      ]
    },
    {
      "cell_type": "code",
      "metadata": {
        "colab": {
          "base_uri": "https://localhost:8080/"
        },
        "id": "5rk4806E26Xi",
        "outputId": "0059f53b-3e3c-47f6-e321-9abde2aebaed"
      },
      "source": [
        "!pip install matplotlib"
      ],
      "execution_count": 51,
      "outputs": [
        {
          "output_type": "stream",
          "text": [
            "Requirement already satisfied: matplotlib in /usr/local/lib/python3.6/dist-packages (3.2.2)\n",
            "Requirement already satisfied: pyparsing!=2.0.4,!=2.1.2,!=2.1.6,>=2.0.1 in /usr/local/lib/python3.6/dist-packages (from matplotlib) (2.4.7)\n",
            "Requirement already satisfied: numpy>=1.11 in /usr/local/lib/python3.6/dist-packages (from matplotlib) (1.19.5)\n",
            "Requirement already satisfied: kiwisolver>=1.0.1 in /usr/local/lib/python3.6/dist-packages (from matplotlib) (1.3.1)\n",
            "Requirement already satisfied: python-dateutil>=2.1 in /usr/local/lib/python3.6/dist-packages (from matplotlib) (2.8.1)\n",
            "Requirement already satisfied: cycler>=0.10 in /usr/local/lib/python3.6/dist-packages (from matplotlib) (0.10.0)\n",
            "Requirement already satisfied: six>=1.5 in /usr/local/lib/python3.6/dist-packages (from python-dateutil>=2.1->matplotlib) (1.15.0)\n"
          ],
          "name": "stdout"
        }
      ]
    },
    {
      "cell_type": "code",
      "metadata": {
        "colab": {
          "base_uri": "https://localhost:8080/"
        },
        "id": "v1zxZ13A26g-",
        "outputId": "4c6bf34b-42c3-44da-ea9a-2c56f4aef033"
      },
      "source": [
        "pip install mplot3d-dragger"
      ],
      "execution_count": 52,
      "outputs": [
        {
          "output_type": "stream",
          "text": [
            "Requirement already satisfied: mplot3d-dragger in /usr/local/lib/python3.6/dist-packages (0.0.0)\n"
          ],
          "name": "stdout"
        }
      ]
    },
    {
      "cell_type": "code",
      "metadata": {
        "colab": {
          "base_uri": "https://localhost:8080/"
        },
        "id": "k2OCcUvq26ms",
        "outputId": "fe6649c9-105b-42ca-fdfa-1f8d633d11ea"
      },
      "source": [
        "pip install mpl-toolkits.clifford"
      ],
      "execution_count": 53,
      "outputs": [
        {
          "output_type": "stream",
          "text": [
            "Requirement already satisfied: mpl-toolkits.clifford in /usr/local/lib/python3.6/dist-packages (0.0.3)\n",
            "Requirement already satisfied: trimesh in /usr/local/lib/python3.6/dist-packages (from mpl-toolkits.clifford) (3.9.7)\n",
            "Requirement already satisfied: matplotlib in /usr/local/lib/python3.6/dist-packages (from mpl-toolkits.clifford) (3.2.2)\n",
            "Requirement already satisfied: clifford in /usr/local/lib/python3.6/dist-packages (from mpl-toolkits.clifford) (1.3.1)\n",
            "Requirement already satisfied: numpy in /usr/local/lib/python3.6/dist-packages (from trimesh->mpl-toolkits.clifford) (1.19.5)\n",
            "Requirement already satisfied: setuptools in /usr/local/lib/python3.6/dist-packages (from trimesh->mpl-toolkits.clifford) (53.0.0)\n",
            "Requirement already satisfied: pyparsing!=2.0.4,!=2.1.2,!=2.1.6,>=2.0.1 in /usr/local/lib/python3.6/dist-packages (from matplotlib->mpl-toolkits.clifford) (2.4.7)\n",
            "Requirement already satisfied: python-dateutil>=2.1 in /usr/local/lib/python3.6/dist-packages (from matplotlib->mpl-toolkits.clifford) (2.8.1)\n",
            "Requirement already satisfied: cycler>=0.10 in /usr/local/lib/python3.6/dist-packages (from matplotlib->mpl-toolkits.clifford) (0.10.0)\n",
            "Requirement already satisfied: kiwisolver>=1.0.1 in /usr/local/lib/python3.6/dist-packages (from matplotlib->mpl-toolkits.clifford) (1.3.1)\n",
            "Requirement already satisfied: scipy in /usr/local/lib/python3.6/dist-packages (from clifford->mpl-toolkits.clifford) (1.4.1)\n",
            "Requirement already satisfied: sparse in /usr/local/lib/python3.6/dist-packages (from clifford->mpl-toolkits.clifford) (0.11.2)\n",
            "Requirement already satisfied: h5py in /usr/local/lib/python3.6/dist-packages (from clifford->mpl-toolkits.clifford) (2.10.0)\n",
            "Requirement already satisfied: numba>0.46 in /usr/local/lib/python3.6/dist-packages (from clifford->mpl-toolkits.clifford) (0.51.2)\n",
            "Requirement already satisfied: six>=1.5 in /usr/local/lib/python3.6/dist-packages (from python-dateutil>=2.1->matplotlib->mpl-toolkits.clifford) (1.15.0)\n",
            "Requirement already satisfied: llvmlite<0.35,>=0.34.0.dev0 in /usr/local/lib/python3.6/dist-packages (from numba>0.46->clifford->mpl-toolkits.clifford) (0.34.0)\n"
          ],
          "name": "stdout"
        }
      ]
    },
    {
      "cell_type": "code",
      "metadata": {
        "id": "o4TvZDOI26qY"
      },
      "source": [
        "!mkdir qtables"
      ],
      "execution_count": 55,
      "outputs": []
    },
    {
      "cell_type": "code",
      "metadata": {
        "colab": {
          "base_uri": "https://localhost:8080/",
          "height": 874
        },
        "id": "Y2babdVg1XUT",
        "outputId": "fda70574-e8ef-4a60-f5d0-2300ae7e0a89"
      },
      "source": [
        "\r\n",
        "\r\n",
        "from mpl_toolkits.mplot3d import axes3d\r\n",
        "import matplotlib.pyplot as plt\r\n",
        "from matplotlib import style\r\n",
        "import numpy as np\r\n",
        "\r\n",
        "style.use('ggplot')\r\n",
        "\r\n",
        "\r\n",
        "def get_q_color(value, vals):\r\n",
        "    if value == max(vals):\r\n",
        "        return \"green\", 1.0\r\n",
        "    else:\r\n",
        "        return \"red\", 0.3\r\n",
        "\r\n",
        "\r\n",
        "fig = plt.figure(figsize=(12, 9))\r\n",
        "\r\n",
        "ax1 = fig.add_subplot(311)\r\n",
        "ax2 = fig.add_subplot(312)\r\n",
        "ax3 = fig.add_subplot(313)\r\n",
        "\r\n",
        "i = 24999\r\n",
        "q_table = np.load(f\"qtables/{i}-qtable.npy\")\r\n",
        "\r\n",
        "\r\n",
        "for x, x_vals in enumerate(q_table):\r\n",
        "    for y, y_vals in enumerate(x_vals):\r\n",
        "        ax1.scatter(x, y, c=get_q_color(y_vals[0], y_vals)[0], marker=\"o\", alpha=get_q_color(y_vals[0], y_vals)[1])\r\n",
        "        ax2.scatter(x, y, c=get_q_color(y_vals[1], y_vals)[0], marker=\"o\", alpha=get_q_color(y_vals[1], y_vals)[1])\r\n",
        "        ax3.scatter(x, y, c=get_q_color(y_vals[2], y_vals)[0], marker=\"o\", alpha=get_q_color(y_vals[2], y_vals)[1])\r\n",
        "\r\n",
        "        ax1.set_ylabel(\"Action 0\")\r\n",
        "        ax2.set_ylabel(\"Action 1\")\r\n",
        "        ax3.set_ylabel(\"Action 2\")\r\n",
        "\r\n",
        "\r\n",
        "plt.show()"
      ],
      "execution_count": 56,
      "outputs": [
        {
          "output_type": "error",
          "ename": "FileNotFoundError",
          "evalue": "ignored",
          "traceback": [
            "\u001b[0;31m---------------------------------------------------------------------------\u001b[0m",
            "\u001b[0;31mFileNotFoundError\u001b[0m                         Traceback (most recent call last)",
            "\u001b[0;32m<ipython-input-56-6119faab4a90>\u001b[0m in \u001b[0;36m<module>\u001b[0;34m()\u001b[0m\n\u001b[1;32m     23\u001b[0m \u001b[0;34m\u001b[0m\u001b[0m\n\u001b[1;32m     24\u001b[0m \u001b[0mi\u001b[0m \u001b[0;34m=\u001b[0m \u001b[0;36m24999\u001b[0m\u001b[0;34m\u001b[0m\u001b[0;34m\u001b[0m\u001b[0m\n\u001b[0;32m---> 25\u001b[0;31m \u001b[0mq_table\u001b[0m \u001b[0;34m=\u001b[0m \u001b[0mnp\u001b[0m\u001b[0;34m.\u001b[0m\u001b[0mload\u001b[0m\u001b[0;34m(\u001b[0m\u001b[0;34mf\"qtables/{i}-qtable.npy\"\u001b[0m\u001b[0;34m)\u001b[0m\u001b[0;34m\u001b[0m\u001b[0;34m\u001b[0m\u001b[0m\n\u001b[0m\u001b[1;32m     26\u001b[0m \u001b[0;34m\u001b[0m\u001b[0m\n\u001b[1;32m     27\u001b[0m \u001b[0;34m\u001b[0m\u001b[0m\n",
            "\u001b[0;32m/usr/local/lib/python3.6/dist-packages/numpy/lib/npyio.py\u001b[0m in \u001b[0;36mload\u001b[0;34m(file, mmap_mode, allow_pickle, fix_imports, encoding)\u001b[0m\n\u001b[1;32m    414\u001b[0m             \u001b[0mown_fid\u001b[0m \u001b[0;34m=\u001b[0m \u001b[0;32mFalse\u001b[0m\u001b[0;34m\u001b[0m\u001b[0;34m\u001b[0m\u001b[0m\n\u001b[1;32m    415\u001b[0m         \u001b[0;32melse\u001b[0m\u001b[0;34m:\u001b[0m\u001b[0;34m\u001b[0m\u001b[0;34m\u001b[0m\u001b[0m\n\u001b[0;32m--> 416\u001b[0;31m             \u001b[0mfid\u001b[0m \u001b[0;34m=\u001b[0m \u001b[0mstack\u001b[0m\u001b[0;34m.\u001b[0m\u001b[0menter_context\u001b[0m\u001b[0;34m(\u001b[0m\u001b[0mopen\u001b[0m\u001b[0;34m(\u001b[0m\u001b[0mos_fspath\u001b[0m\u001b[0;34m(\u001b[0m\u001b[0mfile\u001b[0m\u001b[0;34m)\u001b[0m\u001b[0;34m,\u001b[0m \u001b[0;34m\"rb\"\u001b[0m\u001b[0;34m)\u001b[0m\u001b[0;34m)\u001b[0m\u001b[0;34m\u001b[0m\u001b[0;34m\u001b[0m\u001b[0m\n\u001b[0m\u001b[1;32m    417\u001b[0m             \u001b[0mown_fid\u001b[0m \u001b[0;34m=\u001b[0m \u001b[0;32mTrue\u001b[0m\u001b[0;34m\u001b[0m\u001b[0;34m\u001b[0m\u001b[0m\n\u001b[1;32m    418\u001b[0m \u001b[0;34m\u001b[0m\u001b[0m\n",
            "\u001b[0;31mFileNotFoundError\u001b[0m: [Errno 2] No such file or directory: 'qtables/24999-qtable.npy'"
          ]
        },
        {
          "output_type": "display_data",
          "data": {
            "image/png": "[encoded data removed]",
            "text/plain": [
              "<Figure size 864x648 with 3 Axes>"
            ]
          },
          "metadata": {
            "tags": []
          }
        }
      ]
    },
    {
      "cell_type": "code",
      "metadata": {
        "id": "9n-ogiCL21Pc"
      },
      "source": [
        ""
      ],
      "execution_count": null,
      "outputs": []
    }
  ]
}